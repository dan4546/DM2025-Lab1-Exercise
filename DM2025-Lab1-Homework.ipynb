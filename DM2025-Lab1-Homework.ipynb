{
 "cells": [
  {
   "cell_type": "markdown",
   "metadata": {},
   "source": [
    "### Student Information\n",
    "Name: 陳彥瑞\n",
    "\n",
    "Student ID: 114233511\n",
    "\n",
    "GitHub ID: dan4546"
   ]
  },
  {
   "cell_type": "markdown",
   "metadata": {},
   "source": [
    "---"
   ]
  },
  {
   "cell_type": "markdown",
   "metadata": {},
   "source": [
    "### Instructions"
   ]
  },
  {
   "cell_type": "markdown",
   "metadata": {},
   "source": [
    "### First Phase Submission"
   ]
  },
  {
   "cell_type": "markdown",
   "metadata": {},
   "source": [
    "1. First: do the **take home** exercises in the [DM2025-Lab1-Master](https://github.com/leoson-wu/DM2025-Lab1-Exercise/blob/main/DM2025-Lab1-Master.ipynb) that considered as **phase 1 (from exercise 1 to exercise 15)**. You can answer in the master file. __This part is worth 10% of your grade.__\n",
    "\n",
    "\n",
    "2. Second: follow the same process from the [DM2025-Lab1-Master](https://github.com/leoson-wu/DM2025-Lab1-Exercise/blob/main/DM2025-Lab1-Master.ipynb) on **the new dataset** up **until phase 1**. You can skip some exercises if you think some steps are not necessary. However main exercises should be completed. You don't need to explain all details as we did (some **minimal comments** explaining your code are useful though).  __This part is worth 15% of your grade.__\n",
    "    -  Use [the new dataset](https://github.com/leoson-wu/DM2025-Lab1-Exercise/blob/main/newdataset/Reddit-stock-sentiment.csv). The dataset contains a 16 columns including 'text' and 'label', with the sentiment labels being: 1.0 is positive, 0.0 is neutral and -1.0 is negative. You can simplify the dataset and use only the columns that you think are necessary. \n",
    "    \n",
    "    - You are allowed to use and modify the `helper` functions in the folder of the first lab session (notice they may need modification) or create your own.\n",
    "    - Use this file to complete the homework from the second part. Make sure the code can be run from the beginning till the end and has all the needed output.\n",
    "\n",
    "\n",
    "3. Third: please attempt the following tasks on **the new dataset**. __This part is worth 10% of your grade.__\n",
    "    - Generate meaningful **new data visualizations**. Refer to online resources and the Data Mining textbook for inspiration and ideas. \n",
    "    \n",
    "\n",
    "\n",
    "4. Fourth: It's hard for us to follow if your code is messy, so please **tidy up your notebook** and **add minimal comments where needed**. __This part is worth 5% of your grade.__\n",
    "\n",
    "You can submit your homework following these guidelines: [DM2025-Lab1-announcement](https://github.com/leoson-wu/DM2025-Lab1-Announcement/blob/main/README.md). Make sure to commit and save your changes to your repository __BEFORE the deadline (September 28th 11:59 pm, Sunday)__. "
   ]
  },
  {
   "cell_type": "markdown",
   "metadata": {},
   "source": [
    "### Second Phase Submission "
   ]
  },
  {
   "cell_type": "markdown",
   "metadata": {},
   "source": [
    "**You can keep the answer for phase 1 for easier running and update the phase 2 on the same page.**\n",
    "\n",
    "1. First: Continue doing the **take home** exercises in the [DM2025-Lab1-Master](https://github.com/leoson-wu/DM2025-Lab1-Exercise/blob/main/DM2025-Lab1-Master.ipynb) for **phase 2, starting from Finding frequent patterns**. Use the same master(.ipynb) file. Answer from phase 1 will not be considered at this stage. You can answer in the master file. __This part is worth 10% of your grade.__\n",
    "\n",
    "\n",
    "2. Second: Continue from first phase and do the same process from the [DM2025-Lab1-Master](https://github.com/leoson-wu/DM2025-Lab1-Exercise/blob/main/DM2025-Lab1-Master.ipynb) on **the new dataset** for phase 2, starting from Finding frequent pattern. You can skip some exercises if you think some steps are not necessary. However main exercises should be completed. You don't need to explain all details as we did (some **minimal comments** explaining your code are useful though).  __This part is worth 15% of your grade.__\n",
    "    - Continue using this file to complete the homework from the second part. Make sure the code can be run from the beginning till the end and has all the needed output. Use the same new dataset as in phase 1.\n",
    "    \n",
    "    - You are allowed to use and modify the `helper` functions in the folder of the first lab session (notice they may need modification) or create your own.\n",
    "\n",
    "3. Third: please attempt the following tasks on **the new dataset**. __This part is worth 20% of your grade.__\n",
    "    - Use this file to answer.\n",
    "    - Generate **TF-IDF features** from the tokens of each text. This will generating a document matrix, however, the weights will be computed differently (using the TF-IDF value of each word per document as opposed to the word frequency).  Refer to this Scikit-learn [guide](http://scikit-learn.org/stable/modules/generated/sklearn.feature_extraction.text.TfidfVectorizer.html) .\n",
    "    - Implement a simple **Naive Bayes classifier** that automatically classifies the records into their categories. Use both the TF-IDF features and word frequency features to build two seperate classifiers. Note that for the TF-IDF features you might need to use other type of NB classifier different than the one in the Master Notebook. Comment on the differences and when using augmentation with feature pattern.  Refer to this [article](https://hub.packtpub.com/implementing-3-naive-bayes-classifiers-in-scikit-learn/).\n",
    "\n",
    "\n",
    "4. Fourth: In the lab, we applied each step really quickly just to illustrate how to work with your dataset. There are somethings that are not ideal or the most efficient/meaningful. Each dataset can be handled differently as well. What are those inefficent parts you noticed? How can you improve the Data preprocessing for these specific datasets? __This part is worth 10% of your grade.__\n",
    "\n",
    "\n",
    "5. Fifth: It's hard for us to follow if your code is messy, so please **tidy up your notebook** and **add minimal comments where needed**. __This part is worth 5% of your grade.__\n",
    "\n",
    "\n",
    "You can submit your homework following these guidelines: [DM2025-Lab1-announcement](https://github.com/leoson-wu/DM2025-Lab1-Announcement/blob/main/README.md). Make sure to commit and save your changes to your repository __BEFORE the deadline (October 19th 11:59 pm, Sunday)__. "
   ]
  },
  {
   "cell_type": "markdown",
   "metadata": {},
   "source": [
    "# Phase 1"
   ]
  },
  {
   "cell_type": "code",
   "execution_count": 199,
   "metadata": {},
   "outputs": [
    {
     "name": "stdout",
     "output_type": "stream",
     "text": [
      "(847, 16)\n",
      "Index(['type', 'datetime', 'post_id', 'subreddit', 'title', 'author', 'url',\n",
      "       'upvotes', 'downvotes', 'upvote_ratio', 'text', 'subjectivity',\n",
      "       'polarity', 'sentiment', 'entities', 'label'],\n",
      "      dtype='object')\n"
     ]
    },
    {
     "name": "stderr",
     "output_type": "stream",
     "text": [
      "[nltk_data] Downloading package punkt to\n",
      "[nltk_data]     C:\\Users\\danie\\AppData\\Roaming\\nltk_data...\n",
      "[nltk_data]   Package punkt is already up-to-date!\n",
      "[nltk_data] Downloading package punkt_tab to\n",
      "[nltk_data]     C:\\Users\\danie\\AppData\\Roaming\\nltk_data...\n",
      "[nltk_data]   Package punkt_tab is already up-to-date!\n"
     ]
    }
   ],
   "source": [
    "### Begin Assignment Here\n",
    "# test code for environment setup\n",
    "import pandas as pd\n",
    "import numpy as np\n",
    "import nltk\n",
    "nltk.download('punkt')\n",
    "nltk.download(\"punkt_tab\")\n",
    "from sklearn.datasets import fetch_20newsgroups\n",
    "from sklearn.feature_extraction.text import CountVectorizer\n",
    "import plotly as py\n",
    "import matplotlib.pyplot as plt\n",
    "import math\n",
    "import helpers.data_mining_helpers as dmh\n",
    "import seaborn as sns\n",
    "newdataset = pd.read_csv(r\"C:\\Users\\danie\\OneDrive\\Desktop\\Lab1\\DM2025-Lab1-Exercise\\newdataset\\Reddit-stock-sentiment.csv\")\n",
    "print(newdataset.shape)\n",
    "print(newdataset.columns)"
   ]
  },
  {
   "cell_type": "code",
   "execution_count": 200,
   "metadata": {},
   "outputs": [
    {
     "data": {
      "text/html": [
       "<div>\n",
       "<style scoped>\n",
       "    .dataframe tbody tr th:only-of-type {\n",
       "        vertical-align: middle;\n",
       "    }\n",
       "\n",
       "    .dataframe tbody tr th {\n",
       "        vertical-align: top;\n",
       "    }\n",
       "\n",
       "    .dataframe thead th {\n",
       "        text-align: right;\n",
       "    }\n",
       "</style>\n",
       "<table border=\"1\" class=\"dataframe\">\n",
       "  <thead>\n",
       "    <tr style=\"text-align: right;\">\n",
       "      <th></th>\n",
       "      <th>type</th>\n",
       "      <th>datetime</th>\n",
       "      <th>post_id</th>\n",
       "      <th>subreddit</th>\n",
       "      <th>title</th>\n",
       "      <th>author</th>\n",
       "      <th>url</th>\n",
       "      <th>upvotes</th>\n",
       "      <th>downvotes</th>\n",
       "      <th>upvote_ratio</th>\n",
       "      <th>text</th>\n",
       "      <th>subjectivity</th>\n",
       "      <th>polarity</th>\n",
       "      <th>sentiment</th>\n",
       "      <th>entities</th>\n",
       "      <th>label</th>\n",
       "    </tr>\n",
       "  </thead>\n",
       "  <tbody>\n",
       "    <tr>\n",
       "      <th>0</th>\n",
       "      <td>comment</td>\n",
       "      <td>2025-04-11 17:29:56</td>\n",
       "      <td>mmli62w</td>\n",
       "      <td>wallstreetbets</td>\n",
       "      <td>Retardation is on the menu boys! WSB is so back</td>\n",
       "      <td>StickyTip420</td>\n",
       "      <td>https://i.redd.it/0yq2ftren8ue1.jpeg</td>\n",
       "      <td>0</td>\n",
       "      <td>NaN</td>\n",
       "      <td>NaN</td>\n",
       "      <td>Calls on retards</td>\n",
       "      <td>1.000000</td>\n",
       "      <td>-0.900000</td>\n",
       "      <td>-1.0</td>\n",
       "      <td>[]</td>\n",
       "      <td>-1.0</td>\n",
       "    </tr>\n",
       "    <tr>\n",
       "      <th>70</th>\n",
       "      <td>post</td>\n",
       "      <td>2025-03-29 18:14:28</td>\n",
       "      <td>1jmshlc</td>\n",
       "      <td>stockstobuytoday</td>\n",
       "      <td>FINRA Daily Shorts Data</td>\n",
       "      <td>saasfin</td>\n",
       "      <td>https://www.reddit.com/r/stockstobuytoday/comm...</td>\n",
       "      <td>1</td>\n",
       "      <td>0.0</td>\n",
       "      <td>1.0</td>\n",
       "      <td>Updated Daily by EOD\\r\\n\\r\\n  \\r\\n[Daily Short...</td>\n",
       "      <td>0.100000</td>\n",
       "      <td>0.000000</td>\n",
       "      <td>0.0</td>\n",
       "      <td>['EOD', 'Daily', 'Shorts', ']', '[']</td>\n",
       "      <td>0.0</td>\n",
       "    </tr>\n",
       "    <tr>\n",
       "      <th>140</th>\n",
       "      <td>comment</td>\n",
       "      <td>2025-04-11 15:33:32</td>\n",
       "      <td>mmkuflw</td>\n",
       "      <td>stocks</td>\n",
       "      <td>r/Stocks Daily Discussion &amp; Fundamentals Frida...</td>\n",
       "      <td>ivegotwonderfulnews</td>\n",
       "      <td>https://www.reddit.com/r/stocks/comments/1jwlr...</td>\n",
       "      <td>2</td>\n",
       "      <td>NaN</td>\n",
       "      <td>NaN</td>\n",
       "      <td>wholesale ask premium on 1 oz credit suisse in...</td>\n",
       "      <td>0.900000</td>\n",
       "      <td>-0.600000</td>\n",
       "      <td>-1.0</td>\n",
       "      <td>['yesterday', 'credit', 'ask', 'premium', 'sui...</td>\n",
       "      <td>0.0</td>\n",
       "    </tr>\n",
       "    <tr>\n",
       "      <th>210</th>\n",
       "      <td>comment</td>\n",
       "      <td>2025-04-11 14:33:55</td>\n",
       "      <td>mmkic21</td>\n",
       "      <td>stocks</td>\n",
       "      <td>r/Stocks Daily Discussion &amp; Fundamentals Frida...</td>\n",
       "      <td>InvisibleEar</td>\n",
       "      <td>https://www.reddit.com/r/stocks/comments/1jwlr...</td>\n",
       "      <td>4</td>\n",
       "      <td>NaN</td>\n",
       "      <td>NaN</td>\n",
       "      <td>I kind of think the plan is to distract people...</td>\n",
       "      <td>0.550000</td>\n",
       "      <td>0.400000</td>\n",
       "      <td>1.0</td>\n",
       "      <td>['Salvador', 'plan', 'yoyo', 'AOC', 'think', '...</td>\n",
       "      <td>0.0</td>\n",
       "    </tr>\n",
       "    <tr>\n",
       "      <th>280</th>\n",
       "      <td>comment</td>\n",
       "      <td>2025-04-10 14:40:26</td>\n",
       "      <td>mme8wxn</td>\n",
       "      <td>StockMarket</td>\n",
       "      <td>How do you feel about a sitting president maki...</td>\n",
       "      <td>Narradisall</td>\n",
       "      <td>https://apnews.com/article/trump-truth-social-...</td>\n",
       "      <td>2</td>\n",
       "      <td>NaN</td>\n",
       "      <td>NaN</td>\n",
       "      <td>Not great Bob</td>\n",
       "      <td>0.750000</td>\n",
       "      <td>0.800000</td>\n",
       "      <td>1.0</td>\n",
       "      <td>['Bob']</td>\n",
       "      <td>-1.0</td>\n",
       "    </tr>\n",
       "    <tr>\n",
       "      <th>350</th>\n",
       "      <td>comment</td>\n",
       "      <td>2022-01-11 11:38:13</td>\n",
       "      <td>hs71cdb</td>\n",
       "      <td>stockstobuytoday</td>\n",
       "      <td>Green today: $SLV $VIX $PLTK $UUP What else?</td>\n",
       "      <td>[deleted]</td>\n",
       "      <td>https://www.reddit.com/r/stockstobuytoday/comm...</td>\n",
       "      <td>1</td>\n",
       "      <td>NaN</td>\n",
       "      <td>NaN</td>\n",
       "      <td>You don’t buy when it’s green, u buy when it’s...</td>\n",
       "      <td>0.150000</td>\n",
       "      <td>-0.100000</td>\n",
       "      <td>-1.0</td>\n",
       "      <td>['t', 'buy']</td>\n",
       "      <td>1.0</td>\n",
       "    </tr>\n",
       "    <tr>\n",
       "      <th>420</th>\n",
       "      <td>comment</td>\n",
       "      <td>2025-04-04 13:49:13</td>\n",
       "      <td>mldgwm4</td>\n",
       "      <td>stocks</td>\n",
       "      <td>Rate My Portfolio - r/Stocks Quarterly Thread ...</td>\n",
       "      <td>--Shake--</td>\n",
       "      <td>https://www.reddit.com/r/stocks/comments/1j0w7...</td>\n",
       "      <td>7</td>\n",
       "      <td>NaN</td>\n",
       "      <td>NaN</td>\n",
       "      <td>Sold it all. Think I'm doing pretty good.</td>\n",
       "      <td>0.800000</td>\n",
       "      <td>0.475000</td>\n",
       "      <td>1.0</td>\n",
       "      <td>[]</td>\n",
       "      <td>1.0</td>\n",
       "    </tr>\n",
       "    <tr>\n",
       "      <th>490</th>\n",
       "      <td>comment</td>\n",
       "      <td>2021-02-01 15:54:18</td>\n",
       "      <td>glm1ewv</td>\n",
       "      <td>stocks</td>\n",
       "      <td>It's fucking awful seeing the \"Silver\" misinfo...</td>\n",
       "      <td>mtol115</td>\n",
       "      <td>https://www.reddit.com/r/stocks/comments/la34b...</td>\n",
       "      <td>1</td>\n",
       "      <td>NaN</td>\n",
       "      <td>NaN</td>\n",
       "      <td>SLV =/= physical silver</td>\n",
       "      <td>0.571429</td>\n",
       "      <td>-0.375000</td>\n",
       "      <td>-1.0</td>\n",
       "      <td>['=/=', 'SLV', 'silver']</td>\n",
       "      <td>0.0</td>\n",
       "    </tr>\n",
       "    <tr>\n",
       "      <th>560</th>\n",
       "      <td>comment</td>\n",
       "      <td>2021-02-01 21:05:05</td>\n",
       "      <td>glne02g</td>\n",
       "      <td>stocks</td>\n",
       "      <td>It's fucking awful seeing the \"Silver\" misinfo...</td>\n",
       "      <td>stemi67</td>\n",
       "      <td>https://www.reddit.com/r/stocks/comments/la34b...</td>\n",
       "      <td>2</td>\n",
       "      <td>NaN</td>\n",
       "      <td>NaN</td>\n",
       "      <td>I learned the hard way in football.. in colleg...</td>\n",
       "      <td>0.570833</td>\n",
       "      <td>-0.345833</td>\n",
       "      <td>-1.0</td>\n",
       "      <td>['war', 'pride', 'Money', '..', 'NFL', 'colleg...</td>\n",
       "      <td>0.0</td>\n",
       "    </tr>\n",
       "    <tr>\n",
       "      <th>630</th>\n",
       "      <td>comment</td>\n",
       "      <td>2021-02-01 15:42:03</td>\n",
       "      <td>gllzfjr</td>\n",
       "      <td>stocks</td>\n",
       "      <td>It's fucking awful seeing the \"Silver\" misinfo...</td>\n",
       "      <td>twittidoo</td>\n",
       "      <td>https://www.reddit.com/r/stocks/comments/la34b...</td>\n",
       "      <td>1</td>\n",
       "      <td>NaN</td>\n",
       "      <td>NaN</td>\n",
       "      <td>Yes it's true. I bought myself silver earings</td>\n",
       "      <td>0.650000</td>\n",
       "      <td>0.350000</td>\n",
       "      <td>1.0</td>\n",
       "      <td>['silver']</td>\n",
       "      <td>0.0</td>\n",
       "    </tr>\n",
       "    <tr>\n",
       "      <th>700</th>\n",
       "      <td>comment</td>\n",
       "      <td>2025-04-12 1:09:59</td>\n",
       "      <td>mmntum6</td>\n",
       "      <td>wallstreetbets</td>\n",
       "      <td>Retail giant TARGET has now declined for 10 co...</td>\n",
       "      <td>CuttyAllgood</td>\n",
       "      <td>https://i.redd.it/7tl6puv9waue1.jpeg</td>\n",
       "      <td>36</td>\n",
       "      <td>NaN</td>\n",
       "      <td>NaN</td>\n",
       "      <td>Donno why you’re getting downvoted. You’re not...</td>\n",
       "      <td>0.900000</td>\n",
       "      <td>-0.500000</td>\n",
       "      <td>-1.0</td>\n",
       "      <td>['Donno', 'IMO']</td>\n",
       "      <td>1.0</td>\n",
       "    </tr>\n",
       "    <tr>\n",
       "      <th>770</th>\n",
       "      <td>comment</td>\n",
       "      <td>2025-04-11 20:23:23</td>\n",
       "      <td>mmmgkq3</td>\n",
       "      <td>wallstreetbets</td>\n",
       "      <td>Weekend Discussion Thread for the Weekend of A...</td>\n",
       "      <td>AddressSpiritual9574</td>\n",
       "      <td>https://www.reddit.com/r/wallstreetbets/commen...</td>\n",
       "      <td>20</td>\n",
       "      <td>NaN</td>\n",
       "      <td>NaN</td>\n",
       "      <td>Literally spent my last dollar on puts. A 12 h...</td>\n",
       "      <td>0.177778</td>\n",
       "      <td>0.038889</td>\n",
       "      <td>1.0</td>\n",
       "      <td>['fat', 'Monday', 'midday', 'shift', 'Uber', '...</td>\n",
       "      <td>-1.0</td>\n",
       "    </tr>\n",
       "    <tr>\n",
       "      <th>840</th>\n",
       "      <td>comment</td>\n",
       "      <td>2025-04-11 9:32:08</td>\n",
       "      <td>mmjac41</td>\n",
       "      <td>StockMarket</td>\n",
       "      <td>🚨China responds to Trump’s 145% tariff with an...</td>\n",
       "      <td>ijuscrushalot</td>\n",
       "      <td>https://i.redd.it/2f7y4h6226ue1.jpeg</td>\n",
       "      <td>2</td>\n",
       "      <td>NaN</td>\n",
       "      <td>NaN</td>\n",
       "      <td>Lol fr</td>\n",
       "      <td>0.700000</td>\n",
       "      <td>0.800000</td>\n",
       "      <td>1.0</td>\n",
       "      <td>['Lol', 'fr']</td>\n",
       "      <td>0.0</td>\n",
       "    </tr>\n",
       "  </tbody>\n",
       "</table>\n",
       "</div>"
      ],
      "text/plain": [
       "        type             datetime  post_id         subreddit  \\\n",
       "0    comment  2025-04-11 17:29:56  mmli62w    wallstreetbets   \n",
       "70      post  2025-03-29 18:14:28  1jmshlc  stockstobuytoday   \n",
       "140  comment  2025-04-11 15:33:32  mmkuflw            stocks   \n",
       "210  comment  2025-04-11 14:33:55  mmkic21            stocks   \n",
       "280  comment  2025-04-10 14:40:26  mme8wxn       StockMarket   \n",
       "350  comment  2022-01-11 11:38:13  hs71cdb  stockstobuytoday   \n",
       "420  comment  2025-04-04 13:49:13  mldgwm4            stocks   \n",
       "490  comment  2021-02-01 15:54:18  glm1ewv            stocks   \n",
       "560  comment  2021-02-01 21:05:05  glne02g            stocks   \n",
       "630  comment  2021-02-01 15:42:03  gllzfjr            stocks   \n",
       "700  comment   2025-04-12 1:09:59  mmntum6    wallstreetbets   \n",
       "770  comment  2025-04-11 20:23:23  mmmgkq3    wallstreetbets   \n",
       "840  comment   2025-04-11 9:32:08  mmjac41       StockMarket   \n",
       "\n",
       "                                                 title                author  \\\n",
       "0      Retardation is on the menu boys! WSB is so back          StickyTip420   \n",
       "70                             FINRA Daily Shorts Data               saasfin   \n",
       "140  r/Stocks Daily Discussion & Fundamentals Frida...   ivegotwonderfulnews   \n",
       "210  r/Stocks Daily Discussion & Fundamentals Frida...          InvisibleEar   \n",
       "280  How do you feel about a sitting president maki...           Narradisall   \n",
       "350       Green today: $SLV $VIX $PLTK $UUP What else?             [deleted]   \n",
       "420  Rate My Portfolio - r/Stocks Quarterly Thread ...             --Shake--   \n",
       "490  It's fucking awful seeing the \"Silver\" misinfo...               mtol115   \n",
       "560  It's fucking awful seeing the \"Silver\" misinfo...               stemi67   \n",
       "630  It's fucking awful seeing the \"Silver\" misinfo...             twittidoo   \n",
       "700  Retail giant TARGET has now declined for 10 co...          CuttyAllgood   \n",
       "770  Weekend Discussion Thread for the Weekend of A...  AddressSpiritual9574   \n",
       "840  🚨China responds to Trump’s 145% tariff with an...         ijuscrushalot   \n",
       "\n",
       "                                                   url  upvotes  downvotes  \\\n",
       "0                 https://i.redd.it/0yq2ftren8ue1.jpeg        0        NaN   \n",
       "70   https://www.reddit.com/r/stockstobuytoday/comm...        1        0.0   \n",
       "140  https://www.reddit.com/r/stocks/comments/1jwlr...        2        NaN   \n",
       "210  https://www.reddit.com/r/stocks/comments/1jwlr...        4        NaN   \n",
       "280  https://apnews.com/article/trump-truth-social-...        2        NaN   \n",
       "350  https://www.reddit.com/r/stockstobuytoday/comm...        1        NaN   \n",
       "420  https://www.reddit.com/r/stocks/comments/1j0w7...        7        NaN   \n",
       "490  https://www.reddit.com/r/stocks/comments/la34b...        1        NaN   \n",
       "560  https://www.reddit.com/r/stocks/comments/la34b...        2        NaN   \n",
       "630  https://www.reddit.com/r/stocks/comments/la34b...        1        NaN   \n",
       "700               https://i.redd.it/7tl6puv9waue1.jpeg       36        NaN   \n",
       "770  https://www.reddit.com/r/wallstreetbets/commen...       20        NaN   \n",
       "840               https://i.redd.it/2f7y4h6226ue1.jpeg        2        NaN   \n",
       "\n",
       "     upvote_ratio                                               text  \\\n",
       "0             NaN                                   Calls on retards   \n",
       "70            1.0  Updated Daily by EOD\\r\\n\\r\\n  \\r\\n[Daily Short...   \n",
       "140           NaN  wholesale ask premium on 1 oz credit suisse in...   \n",
       "210           NaN  I kind of think the plan is to distract people...   \n",
       "280           NaN                                      Not great Bob   \n",
       "350           NaN  You don’t buy when it’s green, u buy when it’s...   \n",
       "420           NaN          Sold it all. Think I'm doing pretty good.   \n",
       "490           NaN                            SLV =/= physical silver   \n",
       "560           NaN  I learned the hard way in football.. in colleg...   \n",
       "630           NaN      Yes it's true. I bought myself silver earings   \n",
       "700           NaN  Donno why you’re getting downvoted. You’re not...   \n",
       "770           NaN  Literally spent my last dollar on puts. A 12 h...   \n",
       "840           NaN                                             Lol fr   \n",
       "\n",
       "     subjectivity  polarity  sentiment  \\\n",
       "0        1.000000 -0.900000       -1.0   \n",
       "70       0.100000  0.000000        0.0   \n",
       "140      0.900000 -0.600000       -1.0   \n",
       "210      0.550000  0.400000        1.0   \n",
       "280      0.750000  0.800000        1.0   \n",
       "350      0.150000 -0.100000       -1.0   \n",
       "420      0.800000  0.475000        1.0   \n",
       "490      0.571429 -0.375000       -1.0   \n",
       "560      0.570833 -0.345833       -1.0   \n",
       "630      0.650000  0.350000        1.0   \n",
       "700      0.900000 -0.500000       -1.0   \n",
       "770      0.177778  0.038889        1.0   \n",
       "840      0.700000  0.800000        1.0   \n",
       "\n",
       "                                              entities  label  \n",
       "0                                                   []   -1.0  \n",
       "70                ['EOD', 'Daily', 'Shorts', ']', '[']    0.0  \n",
       "140  ['yesterday', 'credit', 'ask', 'premium', 'sui...    0.0  \n",
       "210  ['Salvador', 'plan', 'yoyo', 'AOC', 'think', '...    0.0  \n",
       "280                                            ['Bob']   -1.0  \n",
       "350                                       ['t', 'buy']    1.0  \n",
       "420                                                 []    1.0  \n",
       "490                           ['=/=', 'SLV', 'silver']    0.0  \n",
       "560  ['war', 'pride', 'Money', '..', 'NFL', 'colleg...    0.0  \n",
       "630                                         ['silver']    0.0  \n",
       "700                                   ['Donno', 'IMO']    1.0  \n",
       "770  ['fat', 'Monday', 'midday', 'shift', 'Uber', '...   -1.0  \n",
       "840                                      ['Lol', 'fr']    0.0  "
      ]
     },
     "execution_count": 200,
     "metadata": {},
     "output_type": "execute_result"
    }
   ],
   "source": [
    "newdataset[::70]"
   ]
  },
  {
   "cell_type": "code",
   "execution_count": 201,
   "metadata": {},
   "outputs": [
    {
     "name": "stdout",
     "output_type": "stream",
     "text": [
      "--- Document 0 ---\n",
      "Retardation is on the menu boys! WSB is so back\n",
      "Calls on retards \n",
      "\n",
      "--- Document 1 ---\n",
      "Retail giant TARGET has now declined for 10 consecutive weeks, its longest losing streak in history\n",
      "Stunt as in like why did they even make a big deal about starting it in the first place? No company should ever talk about politics ever. \n",
      "\n",
      "--- Document 2 ---\n",
      "How do you feel about a sitting president making $415M in one day after pumping his own stock with social media and a policy decision?\n",
      "Seeing lots of red in the ticker. \n",
      "\n"
     ]
    }
   ],
   "source": [
    "for i in range(3):\n",
    "    print(f\"--- Document {i} ---\")\n",
    "    print(newdataset['title'][i])\n",
    "    print(newdataset['text'][i],'\\n')"
   ]
  },
  {
   "cell_type": "code",
   "execution_count": 202,
   "metadata": {},
   "outputs": [
    {
     "data": {
      "text/html": [
       "<div>\n",
       "<style scoped>\n",
       "    .dataframe tbody tr th:only-of-type {\n",
       "        vertical-align: middle;\n",
       "    }\n",
       "\n",
       "    .dataframe tbody tr th {\n",
       "        vertical-align: top;\n",
       "    }\n",
       "\n",
       "    .dataframe thead th {\n",
       "        text-align: right;\n",
       "    }\n",
       "</style>\n",
       "<table border=\"1\" class=\"dataframe\">\n",
       "  <thead>\n",
       "    <tr style=\"text-align: right;\">\n",
       "      <th></th>\n",
       "      <th>type</th>\n",
       "      <th>datetime</th>\n",
       "      <th>post_id</th>\n",
       "      <th>subreddit</th>\n",
       "      <th>title</th>\n",
       "      <th>author</th>\n",
       "      <th>url</th>\n",
       "      <th>upvotes</th>\n",
       "      <th>downvotes</th>\n",
       "      <th>upvote_ratio</th>\n",
       "      <th>text</th>\n",
       "      <th>subjectivity</th>\n",
       "      <th>polarity</th>\n",
       "      <th>sentiment</th>\n",
       "      <th>entities</th>\n",
       "      <th>label</th>\n",
       "    </tr>\n",
       "  </thead>\n",
       "  <tbody>\n",
       "    <tr>\n",
       "      <th>3</th>\n",
       "      <td>post</td>\n",
       "      <td>2023-08-30 17:12:55</td>\n",
       "      <td>165kllm</td>\n",
       "      <td>stockstobuytoday</td>\n",
       "      <td>Who knows more? $VMAR</td>\n",
       "      <td>emiljenfn</td>\n",
       "      <td>https://www.reddit.com/r/stockstobuytoday/comm...</td>\n",
       "      <td>30</td>\n",
       "      <td>0.0</td>\n",
       "      <td>0.98</td>\n",
       "      <td>Vision Marine Technologies Inc. is rewriting t...</td>\n",
       "      <td>0.646970</td>\n",
       "      <td>0.216383</td>\n",
       "      <td>1.0</td>\n",
       "      <td>['watercraft', 'skill', 'power', ']', 'feat', ...</td>\n",
       "      <td>1.0</td>\n",
       "    </tr>\n",
       "    <tr>\n",
       "      <th>48</th>\n",
       "      <td>post</td>\n",
       "      <td>2025-04-02 13:00:42</td>\n",
       "      <td>1jpnz8b</td>\n",
       "      <td>stockstobuytoday</td>\n",
       "      <td>Earnings for current week</td>\n",
       "      <td>saasfin</td>\n",
       "      <td>https://www.reddit.com/r/stockstobuytoday/comm...</td>\n",
       "      <td>1</td>\n",
       "      <td>0.0</td>\n",
       "      <td>1.00</td>\n",
       "      <td>\\r\\n\\r\\n  [MarketWatch: Stock Market News - Fi...</td>\n",
       "      <td>0.000000</td>\n",
       "      <td>0.000000</td>\n",
       "      <td>0.0</td>\n",
       "      <td>['Stock', 'MarketWatch', 'catalyst', 'stockbuy...</td>\n",
       "      <td>0.0</td>\n",
       "    </tr>\n",
       "    <tr>\n",
       "      <th>63</th>\n",
       "      <td>post</td>\n",
       "      <td>2025-03-01 10:00:42</td>\n",
       "      <td>1j0w73o</td>\n",
       "      <td>stocks</td>\n",
       "      <td>Rate My Portfolio - r/Stocks Quarterly Thread ...</td>\n",
       "      <td>AutoModerator</td>\n",
       "      <td>https://www.reddit.com/r/stocks/comments/1j0w7...</td>\n",
       "      <td>79</td>\n",
       "      <td>4.0</td>\n",
       "      <td>0.95</td>\n",
       "      <td>Please use this thread to discuss your portfol...</td>\n",
       "      <td>0.368030</td>\n",
       "      <td>0.176667</td>\n",
       "      <td>1.0</td>\n",
       "      <td>['Business', 'learn', 'Finviz', '/', 'broker',...</td>\n",
       "      <td>0.0</td>\n",
       "    </tr>\n",
       "    <tr>\n",
       "      <th>70</th>\n",
       "      <td>post</td>\n",
       "      <td>2025-03-29 18:14:28</td>\n",
       "      <td>1jmshlc</td>\n",
       "      <td>stockstobuytoday</td>\n",
       "      <td>FINRA Daily Shorts Data</td>\n",
       "      <td>saasfin</td>\n",
       "      <td>https://www.reddit.com/r/stockstobuytoday/comm...</td>\n",
       "      <td>1</td>\n",
       "      <td>0.0</td>\n",
       "      <td>1.00</td>\n",
       "      <td>Updated Daily by EOD\\r\\n\\r\\n  \\r\\n[Daily Short...</td>\n",
       "      <td>0.100000</td>\n",
       "      <td>0.000000</td>\n",
       "      <td>0.0</td>\n",
       "      <td>['EOD', 'Daily', 'Shorts', ']', '[']</td>\n",
       "      <td>0.0</td>\n",
       "    </tr>\n",
       "    <tr>\n",
       "      <th>72</th>\n",
       "      <td>post</td>\n",
       "      <td>2025-04-04 6:25:04</td>\n",
       "      <td>1jr5ag5</td>\n",
       "      <td>stockstobuytoday</td>\n",
       "      <td>Spending first $250 tmmw on stocks</td>\n",
       "      <td>Alarmed_Champion_913</td>\n",
       "      <td>https://www.reddit.com/r/stockstobuytoday/comm...</td>\n",
       "      <td>1</td>\n",
       "      <td>0.0</td>\n",
       "      <td>1.00</td>\n",
       "      <td>A lot of stocks are down right now, and I'm th...</td>\n",
       "      <td>0.347959</td>\n",
       "      <td>0.005102</td>\n",
       "      <td>1.0</td>\n",
       "      <td>['cuz', 'OPTT', 'BLGO', 'im', 'money', 'idea',...</td>\n",
       "      <td>0.0</td>\n",
       "    </tr>\n",
       "    <tr>\n",
       "      <th>105</th>\n",
       "      <td>post</td>\n",
       "      <td>2025-04-04 9:01:07</td>\n",
       "      <td>1jr7fe1</td>\n",
       "      <td>stockstobuytoday</td>\n",
       "      <td>World Markets</td>\n",
       "      <td>AutoModerator</td>\n",
       "      <td>https://www.reddit.com/r/stockstobuytoday/comm...</td>\n",
       "      <td>1</td>\n",
       "      <td>0.0</td>\n",
       "      <td>1.00</td>\n",
       "      <td>\\r\\n\\r\\n  [World Markets (stockbuyvest.com)]()</td>\n",
       "      <td>0.000000</td>\n",
       "      <td>0.000000</td>\n",
       "      <td>0.0</td>\n",
       "      <td>[']', 'World', 'stockbuyvest.com', 'Markets']</td>\n",
       "      <td>0.0</td>\n",
       "    </tr>\n",
       "    <tr>\n",
       "      <th>134</th>\n",
       "      <td>post</td>\n",
       "      <td>2021-06-21 23:49:22</td>\n",
       "      <td>o590v2</td>\n",
       "      <td>stockstobuytoday</td>\n",
       "      <td>GSAT MOONING???</td>\n",
       "      <td>Jimenezmf777</td>\n",
       "      <td>https://www.reddit.com/r/stockstobuytoday/comm...</td>\n",
       "      <td>11</td>\n",
       "      <td>0.0</td>\n",
       "      <td>0.92</td>\n",
       "      <td>Word on the street, new price target 3+?\\r\\n\\r...</td>\n",
       "      <td>0.454545</td>\n",
       "      <td>0.136364</td>\n",
       "      <td>1.0</td>\n",
       "      <td>['street', 'price', 'Word', '/', 'target']</td>\n",
       "      <td>0.0</td>\n",
       "    </tr>\n",
       "    <tr>\n",
       "      <th>158</th>\n",
       "      <td>post</td>\n",
       "      <td>2022-02-27 14:56:07</td>\n",
       "      <td>t2px6r</td>\n",
       "      <td>stockstobuytoday</td>\n",
       "      <td>What will happen with 2022?</td>\n",
       "      <td>Superb_Nebula8800</td>\n",
       "      <td>https://www.reddit.com/r/stockstobuytoday/comm...</td>\n",
       "      <td>8</td>\n",
       "      <td>0.0</td>\n",
       "      <td>0.91</td>\n",
       "      <td>Investors brace for more volatility as the wes...</td>\n",
       "      <td>0.000000</td>\n",
       "      <td>0.000000</td>\n",
       "      <td>0.0</td>\n",
       "      <td>['Russia', 'west', 'access', 'volatility', 'Sw...</td>\n",
       "      <td>0.0</td>\n",
       "    </tr>\n",
       "    <tr>\n",
       "      <th>159</th>\n",
       "      <td>post</td>\n",
       "      <td>2025-04-11 13:54:31</td>\n",
       "      <td>1jwqgce</td>\n",
       "      <td>stockstobuytoday</td>\n",
       "      <td>Gappers (Up/Down)</td>\n",
       "      <td>saasfin</td>\n",
       "      <td>https://www.reddit.com/r/stockstobuytoday/comm...</td>\n",
       "      <td>1</td>\n",
       "      <td>0.0</td>\n",
       "      <td>1.00</td>\n",
       "      <td>Gappers for today\\r\\n\\r\\n [Gappers (stockbuyve...</td>\n",
       "      <td>0.000000</td>\n",
       "      <td>0.000000</td>\n",
       "      <td>0.0</td>\n",
       "      <td>['Gappers', 'stockbuyvest.com', ']', 'today', ...</td>\n",
       "      <td>0.0</td>\n",
       "    </tr>\n",
       "    <tr>\n",
       "      <th>160</th>\n",
       "      <td>post</td>\n",
       "      <td>2025-04-03 12:18:32</td>\n",
       "      <td>1jqgwyz</td>\n",
       "      <td>stockstobuytoday</td>\n",
       "      <td>Futures Market</td>\n",
       "      <td>saasfin</td>\n",
       "      <td>https://www.reddit.com/r/stockstobuytoday/comm...</td>\n",
       "      <td>1</td>\n",
       "      <td>0.0</td>\n",
       "      <td>1.00</td>\n",
       "      <td>how does the futures market look today\\r\\n\\r\\n...</td>\n",
       "      <td>0.377083</td>\n",
       "      <td>0.062500</td>\n",
       "      <td>1.0</td>\n",
       "      <td>['Natural', 'stockbuyvest.com', 'Gold', 'marke...</td>\n",
       "      <td>0.0</td>\n",
       "    </tr>\n",
       "  </tbody>\n",
       "</table>\n",
       "</div>"
      ],
      "text/plain": [
       "     type             datetime  post_id         subreddit  \\\n",
       "3    post  2023-08-30 17:12:55  165kllm  stockstobuytoday   \n",
       "48   post  2025-04-02 13:00:42  1jpnz8b  stockstobuytoday   \n",
       "63   post  2025-03-01 10:00:42  1j0w73o            stocks   \n",
       "70   post  2025-03-29 18:14:28  1jmshlc  stockstobuytoday   \n",
       "72   post   2025-04-04 6:25:04  1jr5ag5  stockstobuytoday   \n",
       "105  post   2025-04-04 9:01:07  1jr7fe1  stockstobuytoday   \n",
       "134  post  2021-06-21 23:49:22   o590v2  stockstobuytoday   \n",
       "158  post  2022-02-27 14:56:07   t2px6r  stockstobuytoday   \n",
       "159  post  2025-04-11 13:54:31  1jwqgce  stockstobuytoday   \n",
       "160  post  2025-04-03 12:18:32  1jqgwyz  stockstobuytoday   \n",
       "\n",
       "                                                 title                author  \\\n",
       "3                                Who knows more? $VMAR             emiljenfn   \n",
       "48                           Earnings for current week               saasfin   \n",
       "63   Rate My Portfolio - r/Stocks Quarterly Thread ...         AutoModerator   \n",
       "70                             FINRA Daily Shorts Data               saasfin   \n",
       "72                  Spending first $250 tmmw on stocks  Alarmed_Champion_913   \n",
       "105                                      World Markets         AutoModerator   \n",
       "134                                    GSAT MOONING???          Jimenezmf777   \n",
       "158                        What will happen with 2022?     Superb_Nebula8800   \n",
       "159                                  Gappers (Up/Down)               saasfin   \n",
       "160                                     Futures Market               saasfin   \n",
       "\n",
       "                                                   url  upvotes  downvotes  \\\n",
       "3    https://www.reddit.com/r/stockstobuytoday/comm...       30        0.0   \n",
       "48   https://www.reddit.com/r/stockstobuytoday/comm...        1        0.0   \n",
       "63   https://www.reddit.com/r/stocks/comments/1j0w7...       79        4.0   \n",
       "70   https://www.reddit.com/r/stockstobuytoday/comm...        1        0.0   \n",
       "72   https://www.reddit.com/r/stockstobuytoday/comm...        1        0.0   \n",
       "105  https://www.reddit.com/r/stockstobuytoday/comm...        1        0.0   \n",
       "134  https://www.reddit.com/r/stockstobuytoday/comm...       11        0.0   \n",
       "158  https://www.reddit.com/r/stockstobuytoday/comm...        8        0.0   \n",
       "159  https://www.reddit.com/r/stockstobuytoday/comm...        1        0.0   \n",
       "160  https://www.reddit.com/r/stockstobuytoday/comm...        1        0.0   \n",
       "\n",
       "     upvote_ratio                                               text  \\\n",
       "3            0.98  Vision Marine Technologies Inc. is rewriting t...   \n",
       "48           1.00  \\r\\n\\r\\n  [MarketWatch: Stock Market News - Fi...   \n",
       "63           0.95  Please use this thread to discuss your portfol...   \n",
       "70           1.00  Updated Daily by EOD\\r\\n\\r\\n  \\r\\n[Daily Short...   \n",
       "72           1.00  A lot of stocks are down right now, and I'm th...   \n",
       "105          1.00     \\r\\n\\r\\n  [World Markets (stockbuyvest.com)]()   \n",
       "134          0.92  Word on the street, new price target 3+?\\r\\n\\r...   \n",
       "158          0.91  Investors brace for more volatility as the wes...   \n",
       "159          1.00  Gappers for today\\r\\n\\r\\n [Gappers (stockbuyve...   \n",
       "160          1.00  how does the futures market look today\\r\\n\\r\\n...   \n",
       "\n",
       "     subjectivity  polarity  sentiment  \\\n",
       "3        0.646970  0.216383        1.0   \n",
       "48       0.000000  0.000000        0.0   \n",
       "63       0.368030  0.176667        1.0   \n",
       "70       0.100000  0.000000        0.0   \n",
       "72       0.347959  0.005102        1.0   \n",
       "105      0.000000  0.000000        0.0   \n",
       "134      0.454545  0.136364        1.0   \n",
       "158      0.000000  0.000000        0.0   \n",
       "159      0.000000  0.000000        0.0   \n",
       "160      0.377083  0.062500        1.0   \n",
       "\n",
       "                                              entities  label  \n",
       "3    ['watercraft', 'skill', 'power', ']', 'feat', ...    1.0  \n",
       "48   ['Stock', 'MarketWatch', 'catalyst', 'stockbuy...    0.0  \n",
       "63   ['Business', 'learn', 'Finviz', '/', 'broker',...    0.0  \n",
       "70                ['EOD', 'Daily', 'Shorts', ']', '[']    0.0  \n",
       "72   ['cuz', 'OPTT', 'BLGO', 'im', 'money', 'idea',...    0.0  \n",
       "105      [']', 'World', 'stockbuyvest.com', 'Markets']    0.0  \n",
       "134         ['street', 'price', 'Word', '/', 'target']    0.0  \n",
       "158  ['Russia', 'west', 'access', 'volatility', 'Sw...    0.0  \n",
       "159  ['Gappers', 'stockbuyvest.com', ']', 'today', ...    0.0  \n",
       "160  ['Natural', 'stockbuyvest.com', 'Gold', 'marke...    0.0  "
      ]
     },
     "execution_count": 202,
     "metadata": {},
     "output_type": "execute_result"
    }
   ],
   "source": [
    "query = \"type == 'post'\"\n",
    "newdataset.query(query)[:10]"
   ]
  },
  {
   "cell_type": "code",
   "execution_count": 203,
   "metadata": {},
   "outputs": [
    {
     "data": {
      "text/plain": [
       "type              0\n",
       "datetime          0\n",
       "post_id           0\n",
       "subreddit         0\n",
       "title             0\n",
       "author            0\n",
       "url               0\n",
       "upvotes           0\n",
       "downvotes       783\n",
       "upvote_ratio    783\n",
       "text              0\n",
       "subjectivity      0\n",
       "polarity          0\n",
       "sentiment         0\n",
       "entities          0\n",
       "label             0\n",
       "dtype: int64"
      ]
     },
     "execution_count": 203,
     "metadata": {},
     "output_type": "execute_result"
    }
   ],
   "source": [
    "newdataset.isnull().sum() # check for missing values"
   ]
  },
  {
   "cell_type": "code",
   "execution_count": 204,
   "metadata": {},
   "outputs": [
    {
     "data": {
      "text/plain": [
       "0      (The amoung of missing records is: , 2)\n",
       "1      (The amoung of missing records is: , 2)\n",
       "2      (The amoung of missing records is: , 2)\n",
       "3      (The amoung of missing records is: , 0)\n",
       "4      (The amoung of missing records is: , 2)\n",
       "                        ...                   \n",
       "842    (The amoung of missing records is: , 2)\n",
       "843    (The amoung of missing records is: , 2)\n",
       "844    (The amoung of missing records is: , 0)\n",
       "845    (The amoung of missing records is: , 2)\n",
       "846    (The amoung of missing records is: , 2)\n",
       "Length: 847, dtype: object"
      ]
     },
     "execution_count": 204,
     "metadata": {},
     "output_type": "execute_result"
    }
   ],
   "source": [
    "newdataset.isnull().apply(lambda newdataset: dmh.check_missing_values(newdataset),axis=1)"
   ]
  },
  {
   "cell_type": "code",
   "execution_count": 205,
   "metadata": {},
   "outputs": [
    {
     "data": {
      "text/plain": [
       "0      False\n",
       "1      False\n",
       "2      False\n",
       "3      False\n",
       "4      False\n",
       "       ...  \n",
       "842    False\n",
       "843    False\n",
       "844    False\n",
       "845    False\n",
       "846    False\n",
       "Length: 847, dtype: bool"
      ]
     },
     "execution_count": 205,
     "metadata": {},
     "output_type": "execute_result"
    }
   ],
   "source": [
    "newdataset.duplicated()"
   ]
  },
  {
   "cell_type": "code",
   "execution_count": 206,
   "metadata": {},
   "outputs": [
    {
     "data": {
      "text/plain": [
       "0"
      ]
     },
     "execution_count": 206,
     "metadata": {},
     "output_type": "execute_result"
    }
   ],
   "source": [
    "sum(newdataset.duplicated())"
   ]
  },
  {
   "cell_type": "code",
   "execution_count": 207,
   "metadata": {},
   "outputs": [
    {
     "data": {
      "text/html": [
       "<div>\n",
       "<style scoped>\n",
       "    .dataframe tbody tr th:only-of-type {\n",
       "        vertical-align: middle;\n",
       "    }\n",
       "\n",
       "    .dataframe tbody tr th {\n",
       "        vertical-align: top;\n",
       "    }\n",
       "\n",
       "    .dataframe thead th {\n",
       "        text-align: right;\n",
       "    }\n",
       "</style>\n",
       "<table border=\"1\" class=\"dataframe\">\n",
       "  <thead>\n",
       "    <tr style=\"text-align: right;\">\n",
       "      <th></th>\n",
       "      <th>type</th>\n",
       "      <th>datetime</th>\n",
       "      <th>post_id</th>\n",
       "      <th>subreddit</th>\n",
       "      <th>title</th>\n",
       "      <th>author</th>\n",
       "      <th>url</th>\n",
       "      <th>upvotes</th>\n",
       "      <th>downvotes</th>\n",
       "      <th>upvote_ratio</th>\n",
       "      <th>text</th>\n",
       "      <th>subjectivity</th>\n",
       "      <th>polarity</th>\n",
       "      <th>sentiment</th>\n",
       "      <th>entities</th>\n",
       "      <th>label</th>\n",
       "    </tr>\n",
       "  </thead>\n",
       "  <tbody>\n",
       "    <tr>\n",
       "      <th>42</th>\n",
       "      <td>comment</td>\n",
       "      <td>2021-02-01 13:45:17</td>\n",
       "      <td>gllicpw</td>\n",
       "      <td>stocks</td>\n",
       "      <td>It's fucking awful seeing the \"Silver\" misinfo...</td>\n",
       "      <td>SmithRune735</td>\n",
       "      <td>https://www.reddit.com/r/stocks/comments/la34b...</td>\n",
       "      <td>3943</td>\n",
       "      <td>NaN</td>\n",
       "      <td>NaN</td>\n",
       "      <td>So they went from saying redditors are bad for...</td>\n",
       "      <td>0.666667</td>\n",
       "      <td>-0.7000</td>\n",
       "      <td>-1.0</td>\n",
       "      <td>['market', 'silver']</td>\n",
       "      <td>1.0</td>\n",
       "    </tr>\n",
       "    <tr>\n",
       "      <th>349</th>\n",
       "      <td>post</td>\n",
       "      <td>2025-03-22 18:14:30</td>\n",
       "      <td>1jhestv</td>\n",
       "      <td>stockstobuytoday</td>\n",
       "      <td>FINRA Daily Shorts Data</td>\n",
       "      <td>saasfin</td>\n",
       "      <td>https://www.reddit.com/r/stockstobuytoday/comm...</td>\n",
       "      <td>1</td>\n",
       "      <td>0.0</td>\n",
       "      <td>1.0</td>\n",
       "      <td>Updated Daily by EOD\\r\\n\\r\\n  \\r\\n[Daily Short...</td>\n",
       "      <td>0.100000</td>\n",
       "      <td>0.0000</td>\n",
       "      <td>0.0</td>\n",
       "      <td>['EOD', 'Daily', 'Shorts', ']', '[']</td>\n",
       "      <td>0.0</td>\n",
       "    </tr>\n",
       "    <tr>\n",
       "      <th>352</th>\n",
       "      <td>post</td>\n",
       "      <td>2025-04-08 12:18:30</td>\n",
       "      <td>1juc5fs</td>\n",
       "      <td>stockstobuytoday</td>\n",
       "      <td>Futures Market</td>\n",
       "      <td>saasfin</td>\n",
       "      <td>https://www.reddit.com/r/stockstobuytoday/comm...</td>\n",
       "      <td>1</td>\n",
       "      <td>0.0</td>\n",
       "      <td>1.0</td>\n",
       "      <td>how does the futures market look today\\r\\n\\r\\n...</td>\n",
       "      <td>0.377083</td>\n",
       "      <td>0.0625</td>\n",
       "      <td>1.0</td>\n",
       "      <td>['Natural', 'stockbuyvest.com', 'Gold', 'marke...</td>\n",
       "      <td>0.0</td>\n",
       "    </tr>\n",
       "    <tr>\n",
       "      <th>387</th>\n",
       "      <td>post</td>\n",
       "      <td>2025-03-24 15:47:30</td>\n",
       "      <td>1jituo3</td>\n",
       "      <td>stockstobuytoday</td>\n",
       "      <td>Dark Pool Data</td>\n",
       "      <td>saasfin</td>\n",
       "      <td>https://www.reddit.com/r/stockstobuytoday/comm...</td>\n",
       "      <td>1</td>\n",
       "      <td>0.0</td>\n",
       "      <td>1.0</td>\n",
       "      <td>This data is from FINRA ATS - Updated Weekly\\r...</td>\n",
       "      <td>0.000000</td>\n",
       "      <td>0.0000</td>\n",
       "      <td>0.0</td>\n",
       "      <td>['FINRA', 'data', 'ATS', 'FINRA ATS - Updated'...</td>\n",
       "      <td>0.0</td>\n",
       "    </tr>\n",
       "    <tr>\n",
       "      <th>432</th>\n",
       "      <td>post</td>\n",
       "      <td>2025-04-11 16:01:14</td>\n",
       "      <td>1jwtejt</td>\n",
       "      <td>stockstobuytoday</td>\n",
       "      <td>Crypto Gainers - Coinbase</td>\n",
       "      <td>AutoModerator</td>\n",
       "      <td>https://www.reddit.com/r/stockstobuytoday/comm...</td>\n",
       "      <td>1</td>\n",
       "      <td>0.0</td>\n",
       "      <td>1.0</td>\n",
       "      <td>&amp;#x200B;\\r\\n\\r\\n [Cryptocurrency Prices, Chart...</td>\n",
       "      <td>0.000000</td>\n",
       "      <td>0.0000</td>\n",
       "      <td>0.0</td>\n",
       "      <td>[']', 'Daily', 'Charts', 'PEPEUSD', 'Prices', ...</td>\n",
       "      <td>0.0</td>\n",
       "    </tr>\n",
       "    <tr>\n",
       "      <th>438</th>\n",
       "      <td>post</td>\n",
       "      <td>2025-03-25 21:15:31</td>\n",
       "      <td>1jjukvz</td>\n",
       "      <td>stockstobuytoday</td>\n",
       "      <td>Commitment of Trader Report</td>\n",
       "      <td>saasfin</td>\n",
       "      <td>https://www.reddit.com/r/stockstobuytoday/comm...</td>\n",
       "      <td>1</td>\n",
       "      <td>0.0</td>\n",
       "      <td>1.0</td>\n",
       "      <td>Summarized with Highlights, updated weekly be ...</td>\n",
       "      <td>0.000000</td>\n",
       "      <td>0.0000</td>\n",
       "      <td>0.0</td>\n",
       "      <td>[']', 'Highlights', 'Report', 'EOW', 'Summary'...</td>\n",
       "      <td>0.0</td>\n",
       "    </tr>\n",
       "    <tr>\n",
       "      <th>462</th>\n",
       "      <td>post</td>\n",
       "      <td>2025-04-11 15:47:01</td>\n",
       "      <td>1jwt2cq</td>\n",
       "      <td>stockstobuytoday</td>\n",
       "      <td>Dark Pool Data</td>\n",
       "      <td>saasfin</td>\n",
       "      <td>https://www.reddit.com/r/stockstobuytoday/comm...</td>\n",
       "      <td>1</td>\n",
       "      <td>0.0</td>\n",
       "      <td>1.0</td>\n",
       "      <td>This data is from FINRA ATS - Updated Weekly\\r...</td>\n",
       "      <td>0.000000</td>\n",
       "      <td>0.0000</td>\n",
       "      <td>0.0</td>\n",
       "      <td>['FINRA', 'data', 'ATS', 'FINRA ATS - Updated'...</td>\n",
       "      <td>0.0</td>\n",
       "    </tr>\n",
       "    <tr>\n",
       "      <th>473</th>\n",
       "      <td>post</td>\n",
       "      <td>2025-03-28 12:18:29</td>\n",
       "      <td>1jltpwb</td>\n",
       "      <td>stockstobuytoday</td>\n",
       "      <td>Futures Market</td>\n",
       "      <td>saasfin</td>\n",
       "      <td>https://www.reddit.com/r/stockstobuytoday/comm...</td>\n",
       "      <td>1</td>\n",
       "      <td>0.0</td>\n",
       "      <td>1.0</td>\n",
       "      <td>how does the futures market look today\\r\\n\\r\\n...</td>\n",
       "      <td>0.377083</td>\n",
       "      <td>0.0625</td>\n",
       "      <td>1.0</td>\n",
       "      <td>['Natural', 'stockbuyvest.com', 'Gold', 'marke...</td>\n",
       "      <td>0.0</td>\n",
       "    </tr>\n",
       "    <tr>\n",
       "      <th>520</th>\n",
       "      <td>post</td>\n",
       "      <td>2025-03-25 18:14:13</td>\n",
       "      <td>1jjq3m5</td>\n",
       "      <td>stockstobuytoday</td>\n",
       "      <td>FINRA Daily Shorts Data</td>\n",
       "      <td>saasfin</td>\n",
       "      <td>https://www.reddit.com/r/stockstobuytoday/comm...</td>\n",
       "      <td>1</td>\n",
       "      <td>0.0</td>\n",
       "      <td>1.0</td>\n",
       "      <td>Updated Daily by EOD\\r\\n\\r\\n  \\r\\n[Daily Short...</td>\n",
       "      <td>0.100000</td>\n",
       "      <td>0.0000</td>\n",
       "      <td>0.0</td>\n",
       "      <td>['EOD', 'Daily', 'Shorts', ']', '[']</td>\n",
       "      <td>0.0</td>\n",
       "    </tr>\n",
       "    <tr>\n",
       "      <th>541</th>\n",
       "      <td>post</td>\n",
       "      <td>2025-03-31 15:20:30</td>\n",
       "      <td>1jo5plj</td>\n",
       "      <td>stockstobuytoday</td>\n",
       "      <td>Threshold Securities -aka Naked Shorts</td>\n",
       "      <td>saasfin</td>\n",
       "      <td>https://www.reddit.com/r/stockstobuytoday/comm...</td>\n",
       "      <td>1</td>\n",
       "      <td>0.0</td>\n",
       "      <td>1.0</td>\n",
       "      <td>\\r\\n\\r\\n [Threshold (stockbuyvest.com)]() \\r\\n...</td>\n",
       "      <td>0.000000</td>\n",
       "      <td>0.0000</td>\n",
       "      <td>0.0</td>\n",
       "      <td>['INTC', 'NVDA', 'GME', 'CVNA', 'Threshold', '...</td>\n",
       "      <td>0.0</td>\n",
       "    </tr>\n",
       "    <tr>\n",
       "      <th>583</th>\n",
       "      <td>post</td>\n",
       "      <td>2025-03-21 14:05:32</td>\n",
       "      <td>1jghlrf</td>\n",
       "      <td>stockstobuytoday</td>\n",
       "      <td>Stock Gainers for Today</td>\n",
       "      <td>saasfin</td>\n",
       "      <td>https://www.reddit.com/r/stockstobuytoday/comm...</td>\n",
       "      <td>2</td>\n",
       "      <td>0.0</td>\n",
       "      <td>1.0</td>\n",
       "      <td>Stocks that are trending up today\\r\\n\\r\\n [Pop...</td>\n",
       "      <td>0.000000</td>\n",
       "      <td>0.0000</td>\n",
       "      <td>0.0</td>\n",
       "      <td>[']', 'Popping', 'stockbuyvest.com', 'today']</td>\n",
       "      <td>0.0</td>\n",
       "    </tr>\n",
       "    <tr>\n",
       "      <th>588</th>\n",
       "      <td>post</td>\n",
       "      <td>2025-03-31 15:47:40</td>\n",
       "      <td>1jo6cp3</td>\n",
       "      <td>stockstobuytoday</td>\n",
       "      <td>Dark Pool Data</td>\n",
       "      <td>saasfin</td>\n",
       "      <td>https://www.reddit.com/r/stockstobuytoday/comm...</td>\n",
       "      <td>1</td>\n",
       "      <td>0.0</td>\n",
       "      <td>1.0</td>\n",
       "      <td>This data is from FINRA ATS - Updated Weekly\\r...</td>\n",
       "      <td>0.000000</td>\n",
       "      <td>0.0000</td>\n",
       "      <td>0.0</td>\n",
       "      <td>['FINRA', 'data', 'ATS', 'FINRA ATS - Updated'...</td>\n",
       "      <td>0.0</td>\n",
       "    </tr>\n",
       "    <tr>\n",
       "      <th>595</th>\n",
       "      <td>post</td>\n",
       "      <td>2025-03-31 16:00:55</td>\n",
       "      <td>1jo6nzr</td>\n",
       "      <td>stockstobuytoday</td>\n",
       "      <td>Crypto Gainers - Coinbase</td>\n",
       "      <td>AutoModerator</td>\n",
       "      <td>https://www.reddit.com/r/stockstobuytoday/comm...</td>\n",
       "      <td>1</td>\n",
       "      <td>0.0</td>\n",
       "      <td>1.0</td>\n",
       "      <td>&amp;#x200B;\\r\\n\\r\\n [Cryptocurrency Prices, Chart...</td>\n",
       "      <td>0.000000</td>\n",
       "      <td>0.0000</td>\n",
       "      <td>0.0</td>\n",
       "      <td>[']', 'Daily', 'Charts', 'PEPEUSD', 'Prices', ...</td>\n",
       "      <td>0.0</td>\n",
       "    </tr>\n",
       "    <tr>\n",
       "      <th>679</th>\n",
       "      <td>post</td>\n",
       "      <td>2025-03-29 16:00:54</td>\n",
       "      <td>1jmphcr</td>\n",
       "      <td>stockstobuytoday</td>\n",
       "      <td>Crypto Gainers - Coinbase</td>\n",
       "      <td>AutoModerator</td>\n",
       "      <td>https://www.reddit.com/r/stockstobuytoday/comm...</td>\n",
       "      <td>1</td>\n",
       "      <td>0.0</td>\n",
       "      <td>1.0</td>\n",
       "      <td>&amp;#x200B;\\r\\n\\r\\n [Cryptocurrency Prices, Chart...</td>\n",
       "      <td>0.000000</td>\n",
       "      <td>0.0000</td>\n",
       "      <td>0.0</td>\n",
       "      <td>[']', 'Daily', 'Charts', 'PEPEUSD', 'Prices', ...</td>\n",
       "      <td>0.0</td>\n",
       "    </tr>\n",
       "    <tr>\n",
       "      <th>680</th>\n",
       "      <td>post</td>\n",
       "      <td>2025-04-07 9:01:48</td>\n",
       "      <td>1jtgtfv</td>\n",
       "      <td>stockstobuytoday</td>\n",
       "      <td>World Markets</td>\n",
       "      <td>AutoModerator</td>\n",
       "      <td>https://www.reddit.com/r/stockstobuytoday/comm...</td>\n",
       "      <td>1</td>\n",
       "      <td>0.0</td>\n",
       "      <td>1.0</td>\n",
       "      <td>\\r\\n\\r\\n  [World Markets (stockbuyvest.com)]()</td>\n",
       "      <td>0.000000</td>\n",
       "      <td>0.0000</td>\n",
       "      <td>0.0</td>\n",
       "      <td>[']', 'World', 'stockbuyvest.com', 'Markets']</td>\n",
       "      <td>0.0</td>\n",
       "    </tr>\n",
       "    <tr>\n",
       "      <th>697</th>\n",
       "      <td>post</td>\n",
       "      <td>2025-03-27 18:14:09</td>\n",
       "      <td>1jlakld</td>\n",
       "      <td>stockstobuytoday</td>\n",
       "      <td>FINRA Daily Shorts Data</td>\n",
       "      <td>saasfin</td>\n",
       "      <td>https://www.reddit.com/r/stockstobuytoday/comm...</td>\n",
       "      <td>1</td>\n",
       "      <td>0.0</td>\n",
       "      <td>1.0</td>\n",
       "      <td>Updated Daily by EOD\\r\\n\\r\\n  \\r\\n[Daily Short...</td>\n",
       "      <td>0.100000</td>\n",
       "      <td>0.0000</td>\n",
       "      <td>0.0</td>\n",
       "      <td>['EOD', 'Daily', 'Shorts', ']', '[']</td>\n",
       "      <td>0.0</td>\n",
       "    </tr>\n",
       "    <tr>\n",
       "      <th>712</th>\n",
       "      <td>post</td>\n",
       "      <td>2025-04-01 9:01:38</td>\n",
       "      <td>1jor3aj</td>\n",
       "      <td>stockstobuytoday</td>\n",
       "      <td>World Markets</td>\n",
       "      <td>AutoModerator</td>\n",
       "      <td>https://www.reddit.com/r/stockstobuytoday/comm...</td>\n",
       "      <td>1</td>\n",
       "      <td>0.0</td>\n",
       "      <td>1.0</td>\n",
       "      <td>\\r\\n\\r\\n  [World Markets (stockbuyvest.com)]()</td>\n",
       "      <td>0.000000</td>\n",
       "      <td>0.0000</td>\n",
       "      <td>0.0</td>\n",
       "      <td>[']', 'World', 'stockbuyvest.com', 'Markets']</td>\n",
       "      <td>0.0</td>\n",
       "    </tr>\n",
       "    <tr>\n",
       "      <th>717</th>\n",
       "      <td>post</td>\n",
       "      <td>2025-03-26 16:01:01</td>\n",
       "      <td>1jkf91n</td>\n",
       "      <td>stockstobuytoday</td>\n",
       "      <td>Crypto Gainers - Coinbase</td>\n",
       "      <td>AutoModerator</td>\n",
       "      <td>https://www.reddit.com/r/stockstobuytoday/comm...</td>\n",
       "      <td>1</td>\n",
       "      <td>0.0</td>\n",
       "      <td>1.0</td>\n",
       "      <td>&amp;#x200B;\\r\\n\\r\\n [Cryptocurrency Prices, Chart...</td>\n",
       "      <td>0.000000</td>\n",
       "      <td>0.0000</td>\n",
       "      <td>0.0</td>\n",
       "      <td>[']', 'Daily', 'Charts', 'PEPEUSD', 'Prices', ...</td>\n",
       "      <td>0.0</td>\n",
       "    </tr>\n",
       "    <tr>\n",
       "      <th>783</th>\n",
       "      <td>post</td>\n",
       "      <td>2025-03-31 13:54:38</td>\n",
       "      <td>1jo3qsz</td>\n",
       "      <td>stockstobuytoday</td>\n",
       "      <td>Gappers (Up/Down)</td>\n",
       "      <td>saasfin</td>\n",
       "      <td>https://www.reddit.com/r/stockstobuytoday/comm...</td>\n",
       "      <td>1</td>\n",
       "      <td>0.0</td>\n",
       "      <td>1.0</td>\n",
       "      <td>Gappers for today\\r\\n\\r\\n [Gappers (stockbuyve...</td>\n",
       "      <td>0.000000</td>\n",
       "      <td>0.0000</td>\n",
       "      <td>0.0</td>\n",
       "      <td>['Gappers', 'stockbuyvest.com', ']', 'today', ...</td>\n",
       "      <td>0.0</td>\n",
       "    </tr>\n",
       "    <tr>\n",
       "      <th>786</th>\n",
       "      <td>post</td>\n",
       "      <td>2025-04-03 12:30:39</td>\n",
       "      <td>1jqh5xb</td>\n",
       "      <td>stockstobuytoday</td>\n",
       "      <td>Analyst Recommendations</td>\n",
       "      <td>saasfin</td>\n",
       "      <td>https://www.reddit.com/r/stockstobuytoday/comm...</td>\n",
       "      <td>1</td>\n",
       "      <td>0.0</td>\n",
       "      <td>1.0</td>\n",
       "      <td>Upgrades, Downgrades\\r\\n\\r\\n [Stock Analyst Re...</td>\n",
       "      <td>0.000000</td>\n",
       "      <td>0.0000</td>\n",
       "      <td>0.0</td>\n",
       "      <td>['Analyst', 'Nasdaq', 'Stock', 'Upgrades', 'Do...</td>\n",
       "      <td>0.0</td>\n",
       "    </tr>\n",
       "    <tr>\n",
       "      <th>802</th>\n",
       "      <td>post</td>\n",
       "      <td>2025-04-02 13:54:36</td>\n",
       "      <td>1jpp50o</td>\n",
       "      <td>stockstobuytoday</td>\n",
       "      <td>Gappers (Up/Down)</td>\n",
       "      <td>saasfin</td>\n",
       "      <td>https://www.reddit.com/r/stockstobuytoday/comm...</td>\n",
       "      <td>1</td>\n",
       "      <td>0.0</td>\n",
       "      <td>1.0</td>\n",
       "      <td>Gappers for today\\r\\n\\r\\n [Gappers (stockbuyve...</td>\n",
       "      <td>0.000000</td>\n",
       "      <td>0.0000</td>\n",
       "      <td>0.0</td>\n",
       "      <td>['Gappers', 'stockbuyvest.com', ']', 'today', ...</td>\n",
       "      <td>0.0</td>\n",
       "    </tr>\n",
       "    <tr>\n",
       "      <th>836</th>\n",
       "      <td>post</td>\n",
       "      <td>2025-03-26 12:18:30</td>\n",
       "      <td>1jkadvn</td>\n",
       "      <td>stockstobuytoday</td>\n",
       "      <td>Futures Market</td>\n",
       "      <td>saasfin</td>\n",
       "      <td>https://www.reddit.com/r/stockstobuytoday/comm...</td>\n",
       "      <td>1</td>\n",
       "      <td>0.0</td>\n",
       "      <td>1.0</td>\n",
       "      <td>how does the futures market look today\\r\\n\\r\\n...</td>\n",
       "      <td>0.377083</td>\n",
       "      <td>0.0625</td>\n",
       "      <td>1.0</td>\n",
       "      <td>['Natural', 'stockbuyvest.com', 'Gold', 'marke...</td>\n",
       "      <td>0.0</td>\n",
       "    </tr>\n",
       "    <tr>\n",
       "      <th>844</th>\n",
       "      <td>post</td>\n",
       "      <td>2025-03-24 12:30:39</td>\n",
       "      <td>1jipi4v</td>\n",
       "      <td>stockstobuytoday</td>\n",
       "      <td>Analyst Recommendations</td>\n",
       "      <td>saasfin</td>\n",
       "      <td>https://www.reddit.com/r/stockstobuytoday/comm...</td>\n",
       "      <td>1</td>\n",
       "      <td>0.0</td>\n",
       "      <td>1.0</td>\n",
       "      <td>Upgrades, Downgrades\\r\\n\\r\\n [Stock Analyst Re...</td>\n",
       "      <td>0.000000</td>\n",
       "      <td>0.0000</td>\n",
       "      <td>0.0</td>\n",
       "      <td>['Analyst', 'Nasdaq', 'Stock', 'Upgrades', 'Do...</td>\n",
       "      <td>0.0</td>\n",
       "    </tr>\n",
       "  </tbody>\n",
       "</table>\n",
       "</div>"
      ],
      "text/plain": [
       "        type             datetime  post_id         subreddit  \\\n",
       "42   comment  2021-02-01 13:45:17  gllicpw            stocks   \n",
       "349     post  2025-03-22 18:14:30  1jhestv  stockstobuytoday   \n",
       "352     post  2025-04-08 12:18:30  1juc5fs  stockstobuytoday   \n",
       "387     post  2025-03-24 15:47:30  1jituo3  stockstobuytoday   \n",
       "432     post  2025-04-11 16:01:14  1jwtejt  stockstobuytoday   \n",
       "438     post  2025-03-25 21:15:31  1jjukvz  stockstobuytoday   \n",
       "462     post  2025-04-11 15:47:01  1jwt2cq  stockstobuytoday   \n",
       "473     post  2025-03-28 12:18:29  1jltpwb  stockstobuytoday   \n",
       "520     post  2025-03-25 18:14:13  1jjq3m5  stockstobuytoday   \n",
       "541     post  2025-03-31 15:20:30  1jo5plj  stockstobuytoday   \n",
       "583     post  2025-03-21 14:05:32  1jghlrf  stockstobuytoday   \n",
       "588     post  2025-03-31 15:47:40  1jo6cp3  stockstobuytoday   \n",
       "595     post  2025-03-31 16:00:55  1jo6nzr  stockstobuytoday   \n",
       "679     post  2025-03-29 16:00:54  1jmphcr  stockstobuytoday   \n",
       "680     post   2025-04-07 9:01:48  1jtgtfv  stockstobuytoday   \n",
       "697     post  2025-03-27 18:14:09  1jlakld  stockstobuytoday   \n",
       "712     post   2025-04-01 9:01:38  1jor3aj  stockstobuytoday   \n",
       "717     post  2025-03-26 16:01:01  1jkf91n  stockstobuytoday   \n",
       "783     post  2025-03-31 13:54:38  1jo3qsz  stockstobuytoday   \n",
       "786     post  2025-04-03 12:30:39  1jqh5xb  stockstobuytoday   \n",
       "802     post  2025-04-02 13:54:36  1jpp50o  stockstobuytoday   \n",
       "836     post  2025-03-26 12:18:30  1jkadvn  stockstobuytoday   \n",
       "844     post  2025-03-24 12:30:39  1jipi4v  stockstobuytoday   \n",
       "\n",
       "                                                 title         author  \\\n",
       "42   It's fucking awful seeing the \"Silver\" misinfo...   SmithRune735   \n",
       "349                            FINRA Daily Shorts Data        saasfin   \n",
       "352                                     Futures Market        saasfin   \n",
       "387                                     Dark Pool Data        saasfin   \n",
       "432                          Crypto Gainers - Coinbase  AutoModerator   \n",
       "438                        Commitment of Trader Report        saasfin   \n",
       "462                                     Dark Pool Data        saasfin   \n",
       "473                                     Futures Market        saasfin   \n",
       "520                            FINRA Daily Shorts Data        saasfin   \n",
       "541             Threshold Securities -aka Naked Shorts        saasfin   \n",
       "583                            Stock Gainers for Today        saasfin   \n",
       "588                                     Dark Pool Data        saasfin   \n",
       "595                          Crypto Gainers - Coinbase  AutoModerator   \n",
       "679                          Crypto Gainers - Coinbase  AutoModerator   \n",
       "680                                      World Markets  AutoModerator   \n",
       "697                            FINRA Daily Shorts Data        saasfin   \n",
       "712                                      World Markets  AutoModerator   \n",
       "717                          Crypto Gainers - Coinbase  AutoModerator   \n",
       "783                                  Gappers (Up/Down)        saasfin   \n",
       "786                            Analyst Recommendations        saasfin   \n",
       "802                                  Gappers (Up/Down)        saasfin   \n",
       "836                                     Futures Market        saasfin   \n",
       "844                            Analyst Recommendations        saasfin   \n",
       "\n",
       "                                                   url  upvotes  downvotes  \\\n",
       "42   https://www.reddit.com/r/stocks/comments/la34b...     3943        NaN   \n",
       "349  https://www.reddit.com/r/stockstobuytoday/comm...        1        0.0   \n",
       "352  https://www.reddit.com/r/stockstobuytoday/comm...        1        0.0   \n",
       "387  https://www.reddit.com/r/stockstobuytoday/comm...        1        0.0   \n",
       "432  https://www.reddit.com/r/stockstobuytoday/comm...        1        0.0   \n",
       "438  https://www.reddit.com/r/stockstobuytoday/comm...        1        0.0   \n",
       "462  https://www.reddit.com/r/stockstobuytoday/comm...        1        0.0   \n",
       "473  https://www.reddit.com/r/stockstobuytoday/comm...        1        0.0   \n",
       "520  https://www.reddit.com/r/stockstobuytoday/comm...        1        0.0   \n",
       "541  https://www.reddit.com/r/stockstobuytoday/comm...        1        0.0   \n",
       "583  https://www.reddit.com/r/stockstobuytoday/comm...        2        0.0   \n",
       "588  https://www.reddit.com/r/stockstobuytoday/comm...        1        0.0   \n",
       "595  https://www.reddit.com/r/stockstobuytoday/comm...        1        0.0   \n",
       "679  https://www.reddit.com/r/stockstobuytoday/comm...        1        0.0   \n",
       "680  https://www.reddit.com/r/stockstobuytoday/comm...        1        0.0   \n",
       "697  https://www.reddit.com/r/stockstobuytoday/comm...        1        0.0   \n",
       "712  https://www.reddit.com/r/stockstobuytoday/comm...        1        0.0   \n",
       "717  https://www.reddit.com/r/stockstobuytoday/comm...        1        0.0   \n",
       "783  https://www.reddit.com/r/stockstobuytoday/comm...        1        0.0   \n",
       "786  https://www.reddit.com/r/stockstobuytoday/comm...        1        0.0   \n",
       "802  https://www.reddit.com/r/stockstobuytoday/comm...        1        0.0   \n",
       "836  https://www.reddit.com/r/stockstobuytoday/comm...        1        0.0   \n",
       "844  https://www.reddit.com/r/stockstobuytoday/comm...        1        0.0   \n",
       "\n",
       "     upvote_ratio                                               text  \\\n",
       "42            NaN  So they went from saying redditors are bad for...   \n",
       "349           1.0  Updated Daily by EOD\\r\\n\\r\\n  \\r\\n[Daily Short...   \n",
       "352           1.0  how does the futures market look today\\r\\n\\r\\n...   \n",
       "387           1.0  This data is from FINRA ATS - Updated Weekly\\r...   \n",
       "432           1.0  &#x200B;\\r\\n\\r\\n [Cryptocurrency Prices, Chart...   \n",
       "438           1.0  Summarized with Highlights, updated weekly be ...   \n",
       "462           1.0  This data is from FINRA ATS - Updated Weekly\\r...   \n",
       "473           1.0  how does the futures market look today\\r\\n\\r\\n...   \n",
       "520           1.0  Updated Daily by EOD\\r\\n\\r\\n  \\r\\n[Daily Short...   \n",
       "541           1.0  \\r\\n\\r\\n [Threshold (stockbuyvest.com)]() \\r\\n...   \n",
       "583           1.0  Stocks that are trending up today\\r\\n\\r\\n [Pop...   \n",
       "588           1.0  This data is from FINRA ATS - Updated Weekly\\r...   \n",
       "595           1.0  &#x200B;\\r\\n\\r\\n [Cryptocurrency Prices, Chart...   \n",
       "679           1.0  &#x200B;\\r\\n\\r\\n [Cryptocurrency Prices, Chart...   \n",
       "680           1.0     \\r\\n\\r\\n  [World Markets (stockbuyvest.com)]()   \n",
       "697           1.0  Updated Daily by EOD\\r\\n\\r\\n  \\r\\n[Daily Short...   \n",
       "712           1.0     \\r\\n\\r\\n  [World Markets (stockbuyvest.com)]()   \n",
       "717           1.0  &#x200B;\\r\\n\\r\\n [Cryptocurrency Prices, Chart...   \n",
       "783           1.0  Gappers for today\\r\\n\\r\\n [Gappers (stockbuyve...   \n",
       "786           1.0  Upgrades, Downgrades\\r\\n\\r\\n [Stock Analyst Re...   \n",
       "802           1.0  Gappers for today\\r\\n\\r\\n [Gappers (stockbuyve...   \n",
       "836           1.0  how does the futures market look today\\r\\n\\r\\n...   \n",
       "844           1.0  Upgrades, Downgrades\\r\\n\\r\\n [Stock Analyst Re...   \n",
       "\n",
       "     subjectivity  polarity  sentiment  \\\n",
       "42       0.666667   -0.7000       -1.0   \n",
       "349      0.100000    0.0000        0.0   \n",
       "352      0.377083    0.0625        1.0   \n",
       "387      0.000000    0.0000        0.0   \n",
       "432      0.000000    0.0000        0.0   \n",
       "438      0.000000    0.0000        0.0   \n",
       "462      0.000000    0.0000        0.0   \n",
       "473      0.377083    0.0625        1.0   \n",
       "520      0.100000    0.0000        0.0   \n",
       "541      0.000000    0.0000        0.0   \n",
       "583      0.000000    0.0000        0.0   \n",
       "588      0.000000    0.0000        0.0   \n",
       "595      0.000000    0.0000        0.0   \n",
       "679      0.000000    0.0000        0.0   \n",
       "680      0.000000    0.0000        0.0   \n",
       "697      0.100000    0.0000        0.0   \n",
       "712      0.000000    0.0000        0.0   \n",
       "717      0.000000    0.0000        0.0   \n",
       "783      0.000000    0.0000        0.0   \n",
       "786      0.000000    0.0000        0.0   \n",
       "802      0.000000    0.0000        0.0   \n",
       "836      0.377083    0.0625        1.0   \n",
       "844      0.000000    0.0000        0.0   \n",
       "\n",
       "                                              entities  label  \n",
       "42                                ['market', 'silver']    1.0  \n",
       "349               ['EOD', 'Daily', 'Shorts', ']', '[']    0.0  \n",
       "352  ['Natural', 'stockbuyvest.com', 'Gold', 'marke...    0.0  \n",
       "387  ['FINRA', 'data', 'ATS', 'FINRA ATS - Updated'...    0.0  \n",
       "432  [']', 'Daily', 'Charts', 'PEPEUSD', 'Prices', ...    0.0  \n",
       "438  [']', 'Highlights', 'Report', 'EOW', 'Summary'...    0.0  \n",
       "462  ['FINRA', 'data', 'ATS', 'FINRA ATS - Updated'...    0.0  \n",
       "473  ['Natural', 'stockbuyvest.com', 'Gold', 'marke...    0.0  \n",
       "520               ['EOD', 'Daily', 'Shorts', ']', '[']    0.0  \n",
       "541  ['INTC', 'NVDA', 'GME', 'CVNA', 'Threshold', '...    0.0  \n",
       "583      [']', 'Popping', 'stockbuyvest.com', 'today']    0.0  \n",
       "588  ['FINRA', 'data', 'ATS', 'FINRA ATS - Updated'...    0.0  \n",
       "595  [']', 'Daily', 'Charts', 'PEPEUSD', 'Prices', ...    0.0  \n",
       "679  [']', 'Daily', 'Charts', 'PEPEUSD', 'Prices', ...    0.0  \n",
       "680      [']', 'World', 'stockbuyvest.com', 'Markets']    0.0  \n",
       "697               ['EOD', 'Daily', 'Shorts', ']', '[']    0.0  \n",
       "712      [']', 'World', 'stockbuyvest.com', 'Markets']    0.0  \n",
       "717  [']', 'Daily', 'Charts', 'PEPEUSD', 'Prices', ...    0.0  \n",
       "783  ['Gappers', 'stockbuyvest.com', ']', 'today', ...    0.0  \n",
       "786  ['Analyst', 'Nasdaq', 'Stock', 'Upgrades', 'Do...    0.0  \n",
       "802  ['Gappers', 'stockbuyvest.com', ']', 'today', ...    0.0  \n",
       "836  ['Natural', 'stockbuyvest.com', 'Gold', 'marke...    0.0  \n",
       "844  ['Analyst', 'Nasdaq', 'Stock', 'Upgrades', 'Do...    0.0  "
      ]
     },
     "execution_count": 207,
     "metadata": {},
     "output_type": "execute_result"
    }
   ],
   "source": [
    "newdataset[newdataset['text'].duplicated()]"
   ]
  },
  {
   "cell_type": "code",
   "execution_count": 208,
   "metadata": {},
   "outputs": [
    {
     "name": "stdout",
     "output_type": "stream",
     "text": [
      "23\n"
     ]
    }
   ],
   "source": [
    "print(newdataset['text'].duplicated().sum())"
   ]
  },
  {
   "cell_type": "code",
   "execution_count": 209,
   "metadata": {},
   "outputs": [
    {
     "name": "stdout",
     "output_type": "stream",
     "text": [
      "813\n",
      "0\n"
     ]
    }
   ],
   "source": [
    "fixed_newdataset = newdataset.drop_duplicates(subset=['text'], keep=False)\n",
    "print(len(fixed_newdataset))\n",
    "print(sum(fixed_newdataset.duplicated()))"
   ]
  },
  {
   "cell_type": "code",
   "execution_count": 210,
   "metadata": {},
   "outputs": [
    {
     "name": "stdout",
     "output_type": "stream",
     "text": [
      "847\n"
     ]
    },
    {
     "data": {
      "text/html": [
       "<div>\n",
       "<style scoped>\n",
       "    .dataframe tbody tr th:only-of-type {\n",
       "        vertical-align: middle;\n",
       "    }\n",
       "\n",
       "    .dataframe tbody tr th {\n",
       "        vertical-align: top;\n",
       "    }\n",
       "\n",
       "    .dataframe thead th {\n",
       "        text-align: right;\n",
       "    }\n",
       "</style>\n",
       "<table border=\"1\" class=\"dataframe\">\n",
       "  <thead>\n",
       "    <tr style=\"text-align: right;\">\n",
       "      <th></th>\n",
       "      <th>type</th>\n",
       "      <th>datetime</th>\n",
       "      <th>post_id</th>\n",
       "      <th>subreddit</th>\n",
       "      <th>title</th>\n",
       "      <th>author</th>\n",
       "      <th>url</th>\n",
       "      <th>upvotes</th>\n",
       "      <th>downvotes</th>\n",
       "      <th>upvote_ratio</th>\n",
       "      <th>text</th>\n",
       "      <th>subjectivity</th>\n",
       "      <th>polarity</th>\n",
       "      <th>sentiment</th>\n",
       "      <th>entities</th>\n",
       "      <th>label</th>\n",
       "    </tr>\n",
       "  </thead>\n",
       "  <tbody>\n",
       "    <tr>\n",
       "      <th>105</th>\n",
       "      <td>post</td>\n",
       "      <td>2025-04-04 9:01:07</td>\n",
       "      <td>1jr7fe1</td>\n",
       "      <td>stockstobuytoday</td>\n",
       "      <td>World Markets</td>\n",
       "      <td>AutoModerator</td>\n",
       "      <td>https://www.reddit.com/r/stockstobuytoday/comm...</td>\n",
       "      <td>1</td>\n",
       "      <td>0.0</td>\n",
       "      <td>1.0</td>\n",
       "      <td>\\r\\n\\r\\n  [World Markets (stockbuyvest.com)]()</td>\n",
       "      <td>0.000</td>\n",
       "      <td>0.000</td>\n",
       "      <td>0.0</td>\n",
       "      <td>[']', 'World', 'stockbuyvest.com', 'Markets']</td>\n",
       "      <td>0.0</td>\n",
       "    </tr>\n",
       "    <tr>\n",
       "      <th>12</th>\n",
       "      <td>comment</td>\n",
       "      <td>2025-04-11 5:55:28</td>\n",
       "      <td>mmipka9</td>\n",
       "      <td>stocks</td>\n",
       "      <td>U.S. 10-year Treasury yields rise as Trump tar...</td>\n",
       "      <td>JBallMan23</td>\n",
       "      <td>https://www.reddit.com/r/stocks/comments/1jwfy...</td>\n",
       "      <td>1</td>\n",
       "      <td>NaN</td>\n",
       "      <td>NaN</td>\n",
       "      <td>Honestly let the economy burn, maybe people wi...</td>\n",
       "      <td>0.900</td>\n",
       "      <td>0.600</td>\n",
       "      <td>1.0</td>\n",
       "      <td>['burn', 'economy']</td>\n",
       "      <td>-1.0</td>\n",
       "    </tr>\n",
       "    <tr>\n",
       "      <th>764</th>\n",
       "      <td>comment</td>\n",
       "      <td>2025-04-10 14:54:59</td>\n",
       "      <td>mmebw3w</td>\n",
       "      <td>stocks</td>\n",
       "      <td>PRESIDENT TRUMP JUST ASKED THE SUPREME COURT F...</td>\n",
       "      <td>NonStickyStickyNote</td>\n",
       "      <td>https://www.reddit.com/r/stocks/comments/1jvzr...</td>\n",
       "      <td>276</td>\n",
       "      <td>NaN</td>\n",
       "      <td>NaN</td>\n",
       "      <td>The real question is: Why does he want to fire...</td>\n",
       "      <td>0.300</td>\n",
       "      <td>0.200</td>\n",
       "      <td>1.0</td>\n",
       "      <td>['Powell', 'question']</td>\n",
       "      <td>0.0</td>\n",
       "    </tr>\n",
       "    <tr>\n",
       "      <th>273</th>\n",
       "      <td>comment</td>\n",
       "      <td>2025-04-11 15:21:48</td>\n",
       "      <td>mmks0mk</td>\n",
       "      <td>StockMarket</td>\n",
       "      <td>The Trump administration is begging Xi Jinping...</td>\n",
       "      <td>RudeOwl1816</td>\n",
       "      <td>https://edition.cnn.com/2025/04/10/politics/tr...</td>\n",
       "      <td>1</td>\n",
       "      <td>NaN</td>\n",
       "      <td>NaN</td>\n",
       "      <td>Wild that people are praising China, and talki...</td>\n",
       "      <td>0.475</td>\n",
       "      <td>0.425</td>\n",
       "      <td>1.0</td>\n",
       "      <td>['Russia', 'Chinese', 'Muslim', 'China', 'supp...</td>\n",
       "      <td>-1.0</td>\n",
       "    </tr>\n",
       "    <tr>\n",
       "      <th>197</th>\n",
       "      <td>comment</td>\n",
       "      <td>2025-04-11 4:25:29</td>\n",
       "      <td>mmif8lk</td>\n",
       "      <td>StockMarket</td>\n",
       "      <td>$ U.S. dollar value (crashing)</td>\n",
       "      <td>jpm0719</td>\n",
       "      <td>https://i.redd.it/atvlo83gk4ue1.jpeg</td>\n",
       "      <td>7</td>\n",
       "      <td>NaN</td>\n",
       "      <td>NaN</td>\n",
       "      <td>Agolf Shittler or tangerine toddler.</td>\n",
       "      <td>0.000</td>\n",
       "      <td>0.000</td>\n",
       "      <td>0.0</td>\n",
       "      <td>['Shittler', 'Agolf', 'toddler']</td>\n",
       "      <td>-1.0</td>\n",
       "    </tr>\n",
       "  </tbody>\n",
       "</table>\n",
       "</div>"
      ],
      "text/plain": [
       "        type             datetime  post_id         subreddit  \\\n",
       "105     post   2025-04-04 9:01:07  1jr7fe1  stockstobuytoday   \n",
       "12   comment   2025-04-11 5:55:28  mmipka9            stocks   \n",
       "764  comment  2025-04-10 14:54:59  mmebw3w            stocks   \n",
       "273  comment  2025-04-11 15:21:48  mmks0mk       StockMarket   \n",
       "197  comment   2025-04-11 4:25:29  mmif8lk       StockMarket   \n",
       "\n",
       "                                                 title               author  \\\n",
       "105                                      World Markets        AutoModerator   \n",
       "12   U.S. 10-year Treasury yields rise as Trump tar...           JBallMan23   \n",
       "764  PRESIDENT TRUMP JUST ASKED THE SUPREME COURT F...  NonStickyStickyNote   \n",
       "273  The Trump administration is begging Xi Jinping...          RudeOwl1816   \n",
       "197                     $ U.S. dollar value (crashing)              jpm0719   \n",
       "\n",
       "                                                   url  upvotes  downvotes  \\\n",
       "105  https://www.reddit.com/r/stockstobuytoday/comm...        1        0.0   \n",
       "12   https://www.reddit.com/r/stocks/comments/1jwfy...        1        NaN   \n",
       "764  https://www.reddit.com/r/stocks/comments/1jvzr...      276        NaN   \n",
       "273  https://edition.cnn.com/2025/04/10/politics/tr...        1        NaN   \n",
       "197               https://i.redd.it/atvlo83gk4ue1.jpeg        7        NaN   \n",
       "\n",
       "     upvote_ratio                                               text  \\\n",
       "105           1.0     \\r\\n\\r\\n  [World Markets (stockbuyvest.com)]()   \n",
       "12            NaN  Honestly let the economy burn, maybe people wi...   \n",
       "764           NaN  The real question is: Why does he want to fire...   \n",
       "273           NaN  Wild that people are praising China, and talki...   \n",
       "197           NaN               Agolf Shittler or tangerine toddler.   \n",
       "\n",
       "     subjectivity  polarity  sentiment  \\\n",
       "105         0.000     0.000        0.0   \n",
       "12          0.900     0.600        1.0   \n",
       "764         0.300     0.200        1.0   \n",
       "273         0.475     0.425        1.0   \n",
       "197         0.000     0.000        0.0   \n",
       "\n",
       "                                              entities  label  \n",
       "105      [']', 'World', 'stockbuyvest.com', 'Markets']    0.0  \n",
       "12                                 ['burn', 'economy']   -1.0  \n",
       "764                             ['Powell', 'question']    0.0  \n",
       "273  ['Russia', 'Chinese', 'Muslim', 'China', 'supp...   -1.0  \n",
       "197                   ['Shittler', 'Agolf', 'toddler']   -1.0  "
      ]
     },
     "execution_count": 210,
     "metadata": {},
     "output_type": "execute_result"
    }
   ],
   "source": [
    "newdataset_sample = newdataset.sample(n = 100)\n",
    "print(len(newdataset))\n",
    "newdataset_sample[::20]"
   ]
  },
  {
   "cell_type": "code",
   "execution_count": 211,
   "metadata": {},
   "outputs": [
    {
     "name": "stdout",
     "output_type": "stream",
     "text": [
      "sentiment\n",
      " 0.0    331\n",
      " 1.0    319\n",
      "-1.0    197\n",
      "Name: count, dtype: int64\n"
     ]
    },
    {
     "data": {
      "text/plain": [
       "<Axes: title={'center': 'sentiment'}, xlabel='sentiment'>"
      ]
     },
     "execution_count": 211,
     "metadata": {},
     "output_type": "execute_result"
    },
    {
     "data": {
      "image/png": "[encoded data removed]",
      "text/plain": [
       "<Figure size 700x500 with 1 Axes>"
      ]
     },
     "metadata": {},
     "output_type": "display_data"
    }
   ],
   "source": [
    "print(newdataset.sentiment.value_counts())\n",
    "\n",
    "# plot barchart for X\n",
    "newdataset.sentiment.value_counts().plot(kind = 'bar',\n",
    "                                    title = 'sentiment',\n",
    "                                    ylim = [0, 400],        \n",
    "                                    rot = 0, fontsize = 11, figsize = (7,5))"
   ]
  },
  {
   "cell_type": "code",
   "execution_count": 212,
   "metadata": {},
   "outputs": [
    {
     "name": "stdout",
     "output_type": "stream",
     "text": [
      "sentiment\n",
      " 1.0    44\n",
      " 0.0    42\n",
      "-1.0    14\n",
      "Name: count, dtype: int64\n"
     ]
    },
    {
     "data": {
      "text/plain": [
       "<Axes: title={'center': 'sentiment'}, xlabel='sentiment'>"
      ]
     },
     "execution_count": 212,
     "metadata": {},
     "output_type": "execute_result"
    },
    {
     "data": {
      "image/png": "[encoded data removed]",
      "text/plain": [
       "<Figure size 800x300 with 1 Axes>"
      ]
     },
     "metadata": {},
     "output_type": "display_data"
    }
   ],
   "source": [
    "print(newdataset_sample.sentiment.value_counts())\n",
    "\n",
    "# plot barchart for X_sample\n",
    "newdataset_sample.sentiment.value_counts().plot(kind = 'bar',\n",
    "                                           title = 'sentiment',\n",
    "                                           ylim = [0,50], \n",
    "                                           rot = 0, fontsize = 12, figsize = (8,3))"
   ]
  },
  {
   "cell_type": "code",
   "execution_count": 213,
   "metadata": {},
   "outputs": [
    {
     "data": {
      "image/png": "[encoded data removed]",
      "text/plain": [
       "<Figure size 800x600 with 1 Axes>"
      ]
     },
     "metadata": {},
     "output_type": "display_data"
    }
   ],
   "source": [
    "count_X = newdataset['sentiment'].value_counts().sort_index()\n",
    "count_sample = newdataset_sample['sentiment'].value_counts().sort_index()\n",
    "\n",
    "# 合併成一個 DataFrame\n",
    "df_compare = pd.DataFrame({\n",
    "    'Full dataset': count_X,\n",
    "    'Sampled dataset': count_sample\n",
    "})\n",
    "\n",
    "# 繪圖\n",
    "df_compare.plot(kind='bar', figsize=(8,6), rot = 0)\n",
    "plt.title(\"sentiment\")\n",
    "plt.xlabel(\"sentiment\")\n",
    "plt.show()"
   ]
  },
  {
   "cell_type": "code",
   "execution_count": 214,
   "metadata": {},
   "outputs": [
    {
     "name": "stdout",
     "output_type": "stream",
     "text": [
      "  (np.int32(0), np.int32(692))\t1\n",
      "  (np.int32(0), np.int32(2706))\t1\n",
      "  (np.int32(0), np.int32(3248))\t1\n"
     ]
    }
   ],
   "source": [
    "count_vect = CountVectorizer()\n",
    "newdataset_count = count_vect.fit_transform(newdataset.text)\n",
    "print(newdataset_count[0])"
   ]
  },
  {
   "cell_type": "code",
   "execution_count": 215,
   "metadata": {},
   "outputs": [
    {
     "data": {
      "text/plain": [
       "['calls', 'on', 'retards']"
      ]
     },
     "execution_count": 215,
     "metadata": {},
     "output_type": "execute_result"
    }
   ],
   "source": [
    "analyze = count_vect.build_analyzer()\n",
    "analyze(newdataset.text[0])"
   ]
  },
  {
   "cell_type": "code",
   "execution_count": 216,
   "metadata": {},
   "outputs": [
    {
     "data": {
      "text/plain": [
       "(847, 4346)"
      ]
     },
     "execution_count": 216,
     "metadata": {},
     "output_type": "execute_result"
    }
   ],
   "source": [
    "newdataset_count.shape"
   ]
  },
  {
   "cell_type": "code",
   "execution_count": 217,
   "metadata": {},
   "outputs": [
    {
     "data": {
      "text/plain": [
       "array(['00', '000', '01378', '02', '027', '03', '06', '08', '10', '100'],\n",
       "      dtype=object)"
      ]
     },
     "execution_count": 217,
     "metadata": {},
     "output_type": "execute_result"
    }
   ],
   "source": [
    "count_vect.get_feature_names_out()[0:10]"
   ]
  },
  {
   "cell_type": "code",
   "execution_count": 218,
   "metadata": {},
   "outputs": [
    {
     "data": {
      "text/plain": [
       "array([[0, 0, 0, 0, 0, 0, 0, 0, 0, 0, 0, 0, 0, 0, 0, 0, 0, 0, 0, 0, 0, 0,\n",
       "        0, 0, 0, 0, 0, 0, 0, 0, 0, 0, 0, 0, 0, 0, 0, 0, 0, 0, 0, 0, 0, 0,\n",
       "        0, 0, 0, 0, 0, 0, 0, 0, 0, 0, 0, 0, 0, 0, 0, 0, 0, 0, 0, 0, 0, 0,\n",
       "        0, 0, 0, 0, 0, 0, 0, 0, 0, 0, 0, 0, 0, 0, 0, 0, 0, 0, 0, 0, 0, 0,\n",
       "        0, 0, 0, 0, 0, 0, 0, 0, 0, 0, 0, 0],\n",
       "       [0, 0, 0, 0, 0, 0, 0, 0, 0, 0, 0, 0, 0, 0, 0, 0, 0, 0, 0, 0, 0, 0,\n",
       "        0, 0, 0, 0, 0, 0, 0, 0, 0, 0, 0, 0, 0, 0, 0, 0, 0, 0, 0, 0, 0, 0,\n",
       "        0, 0, 0, 0, 0, 0, 0, 0, 0, 0, 0, 0, 0, 0, 0, 0, 0, 0, 0, 0, 0, 0,\n",
       "        0, 0, 0, 0, 0, 0, 0, 0, 0, 0, 0, 0, 0, 0, 0, 0, 0, 0, 0, 0, 0, 0,\n",
       "        0, 0, 0, 0, 0, 0, 0, 0, 0, 0, 0, 0],\n",
       "       [0, 0, 0, 0, 0, 0, 0, 0, 0, 0, 0, 0, 0, 0, 0, 0, 0, 0, 0, 0, 0, 0,\n",
       "        0, 0, 0, 0, 0, 0, 0, 0, 0, 0, 0, 0, 0, 0, 0, 0, 0, 0, 0, 0, 0, 0,\n",
       "        0, 0, 0, 0, 0, 0, 0, 0, 0, 0, 0, 0, 0, 0, 0, 0, 0, 0, 0, 0, 0, 0,\n",
       "        0, 0, 0, 0, 0, 0, 0, 0, 0, 0, 0, 0, 0, 0, 0, 0, 0, 0, 0, 0, 0, 0,\n",
       "        0, 0, 0, 0, 0, 0, 0, 0, 0, 0, 0, 0],\n",
       "       [0, 0, 0, 0, 0, 0, 0, 0, 0, 0, 0, 0, 0, 0, 0, 0, 0, 0, 3, 0, 0, 0,\n",
       "        0, 0, 0, 0, 0, 0, 0, 0, 0, 0, 0, 0, 0, 0, 0, 0, 0, 0, 0, 0, 0, 0,\n",
       "        0, 0, 0, 0, 0, 0, 0, 0, 0, 0, 0, 0, 0, 0, 0, 0, 0, 0, 0, 0, 0, 0,\n",
       "        0, 0, 0, 0, 0, 0, 0, 0, 0, 0, 0, 0, 0, 0, 0, 0, 0, 0, 0, 0, 0, 0,\n",
       "        0, 0, 0, 0, 0, 0, 0, 0, 0, 0, 0, 0],\n",
       "       [0, 0, 0, 0, 0, 0, 0, 0, 0, 0, 0, 0, 0, 0, 0, 0, 0, 0, 0, 0, 0, 0,\n",
       "        0, 0, 0, 0, 0, 0, 0, 0, 0, 0, 0, 0, 0, 0, 0, 0, 0, 0, 0, 0, 0, 0,\n",
       "        0, 0, 0, 0, 0, 0, 0, 0, 0, 0, 0, 0, 0, 0, 0, 0, 0, 0, 0, 0, 0, 0,\n",
       "        0, 0, 0, 0, 0, 0, 0, 0, 0, 0, 0, 0, 0, 0, 0, 0, 0, 0, 0, 0, 0, 0,\n",
       "        0, 0, 0, 0, 0, 0, 0, 0, 0, 0, 0, 0]])"
      ]
     },
     "execution_count": 218,
     "metadata": {},
     "output_type": "execute_result"
    }
   ],
   "source": [
    "newdataset_count[0:5, 0:100].toarray()"
   ]
  },
  {
   "cell_type": "code",
   "execution_count": 219,
   "metadata": {},
   "outputs": [
    {
     "data": {
      "text/plain": [
       "array(['00'], dtype=object)"
      ]
     },
     "execution_count": 219,
     "metadata": {},
     "output_type": "execute_result"
    }
   ],
   "source": [
    "count_vect.get_feature_names_out()[0:1]"
   ]
  },
  {
   "cell_type": "code",
   "execution_count": 220,
   "metadata": {},
   "outputs": [
    {
     "name": "stdout",
     "output_type": "stream",
     "text": [
      "he\n"
     ]
    }
   ],
   "source": [
    "# 取第 5 筆文章（row 4, 因為 Python 從 0 開始算）\n",
    "record = newdataset_count[4].toarray()\n",
    "\n",
    "# 找出所有值等於 1 的欄位 index\n",
    "col_indices = record.nonzero()[1]\n",
    "\n",
    "# 對應回詞彙表\n",
    "words = count_vect.get_feature_names_out()[col_indices]\n",
    "\n",
    "#print(words[1])\n",
    "print(words[1])"
   ]
  },
  {
   "cell_type": "code",
   "execution_count": 221,
   "metadata": {},
   "outputs": [
    {
     "data": {
      "image/png": "[encoded data removed]",
      "text/plain": [
       "<Figure size 1800x600 with 2 Axes>"
      ]
     },
     "metadata": {},
     "output_type": "display_data"
    }
   ],
   "source": [
    "# 參數\n",
    "TOP_K = 30  # 想看前幾個高頻詞\n",
    "\n",
    "# 1) 取出類別編碼（避免整張轉 dense）\n",
    "cats = pd.Categorical(newdataset[\"sentiment\"])\n",
    "cat_names = list(cats.categories)\n",
    "cat_codes = cats.codes                      # shape: (n_docs,)\n",
    "\n",
    "# 2) 先對每個類別把該類文件的 rows 相加（仍在稀疏矩陣計算）\n",
    "#    只在最後一步才轉成 dense，記憶體友善\n",
    "rows_per_cat = []\n",
    "for cid in range(len(cat_names)):\n",
    "    rows_per_cat.append(newdataset_count[cat_codes == cid].sum(axis=0))   # 1 x n_terms (still sparse)\n",
    "\n",
    "# 3) 疊成 (n_categories x n_terms) 並轉 dense\n",
    "cat_term_mat = np.vstack(rows_per_cat).astype(np.float64)         # still sparse objects stacked\n",
    "cat_term_mat = np.asarray(cat_term_mat).squeeze()                 # to ndarray\n",
    "\n",
    "# 4) 找整體最常見的 TOP_K 詞\n",
    "vocab = count_vect.get_feature_names_out()\n",
    "total_counts = cat_term_mat.sum(axis=0)                           # shape: (n_terms,)\n",
    "top_idx = np.argsort(total_counts)[::-1][:TOP_K]\n",
    "top_terms = vocab[top_idx]\n",
    "\n",
    "# 5) 做成 DataFrame（index=category, columns=top terms）\n",
    "plot_df = pd.DataFrame(cat_term_mat[:, top_idx], \n",
    "                       index=cat_names, columns=top_terms)\n",
    "\n",
    "# 6) 畫熱力圖\n",
    "plt.figure(figsize=(18, 6))\n",
    "ax = sns.heatmap(plot_df, cmap=\"PuRd\", annot=True, fmt=\".0f\")\n",
    "ax.set_title(f\"Category × Top-{TOP_K} term frequencies\")\n",
    "ax.set_xlabel(\"Terms\")\n",
    "ax.set_ylabel(\"Category\")\n",
    "plt.xticks(rotation=30, ha='right')\n",
    "plt.tight_layout()\n",
    "plt.show()"
   ]
  },
  {
   "cell_type": "code",
   "execution_count": 223,
   "metadata": {},
   "outputs": [
    {
     "data": {
      "application/vnd.plotly.v1+json": {
       "config": {
        "plotlyServerURL": "https://plot.ly"
       },
       "data": [
        {
         "hovertemplate": "term=%{x}<br>frequency=%{y}<extra></extra>",
         "legendgroup": "",
         "marker": {
          "color": "#636efa",
          "pattern": {
           "shape": ""
          }
         },
         "name": "",
         "orientation": "v",
         "showlegend": false,
         "textposition": "auto",
         "type": "bar",
         "x": [
          "00",
          "000",
          "01378",
          "02",
          "027",
          "03",
          "06",
          "08",
          "10",
          "100",
          "1000",
          "10000",
          "100k",
          "100x",
          "10k",
          "10ks",
          "10yr",
          "11",
          "116",
          "118",
          "12",
          "1242",
          "125",
          "12855584",
          "13",
          "14",
          "140",
          "145",
          "14th",
          "15",
          "150",
          "153",
          "15m",
          "16",
          "160",
          "17",
          "1700",
          "1728",
          "17th",
          "18",
          "186",
          "18630",
          "1870",
          "1934",
          "1945",
          "1947",
          "1953",
          "1961",
          "1969",
          "1973",
          "1974",
          "1981",
          "1992",
          "1999",
          "1k",
          "1m",
          "20",
          "200",
          "2007",
          "200k",
          "2011",
          "2012",
          "2017",
          "2021",
          "20211209",
          "2024",
          "2025",
          "2028",
          "2045",
          "208",
          "21",
          "22",
          "22rate",
          "23",
          "234",
          "235",
          "24",
          "25",
          "250",
          "25bps",
          "25k",
          "27",
          "28",
          "296895",
          "2c_books",
          "2c_wiki_recommendations",
          "2fapps",
          "2k",
          "2nd",
          "2s",
          "30",
          "300",
          "3000",
          "31",
          "31224",
          "31225",
          "31f",
          "33",
          "3306",
          "34",
          "35",
          "350",
          "36",
          "3a",
          "3d",
          "3f",
          "3k",
          "3oz8xzgfhartvh99yi",
          "40",
          "401k",
          "404",
          "41",
          "42",
          "4260",
          "4267",
          "4271",
          "4359",
          "45",
          "4500",
          "456",
          "46",
          "4675",
          "47",
          "4900",
          "4d",
          "4m",
          "4th",
          "4x",
          "50",
          "500",
          "5000",
          "50k",
          "50x",
          "52",
          "522",
          "540",
          "55",
          "58",
          "60",
          "600k",
          "6026762",
          "64",
          "65",
          "66",
          "6969",
          "6k",
          "6th",
          "70",
          "75",
          "7500",
          "77",
          "7k",
          "7s",
          "80",
          "81",
          "83",
          "87",
          "8882",
          "8883",
          "89",
          "90",
          "9000",
          "90k",
          "95",
          "97",
          "98",
          "98th",
          "99",
          "9k",
          "_are",
          "_so",
          "aapl",
          "ability",
          "able",
          "abolish",
          "about",
          "above",
          "absolute",
          "absolutely",
          "abuse",
          "abusing",
          "abysmal",
          "accelerate",
          "accept",
          "acceptable",
          "accepted",
          "access",
          "according",
          "account",
          "accretive",
          "acct",
          "accurate",
          "accurately",
          "aces",
          "acgl",
          "achieved",
          "achievement",
          "achieves",
          "achilles",
          "acn",
          "acquires",
          "acquisition",
          "acquisitions",
          "across",
          "act",
          "action",
          "actionable",
          "actions",
          "actively",
          "activity",
          "actors",
          "acts",
          "actual",
          "actually",
          "ad",
          "adausd",
          "add",
          "added",
          "addicted",
          "addicts",
          "adding",
          "addition",
          "additional",
          "addressed",
          "adjacent",
          "adjust",
          "admin",
          "administration",
          "administrations",
          "admins",
          "admit",
          "admitted",
          "adobe",
          "adp",
          "adult",
          "advanced",
          "advantage",
          "adversaries",
          "advertisements",
          "advice",
          "advise",
          "advised",
          "advisor",
          "advisors",
          "advocating",
          "aerc",
          "aerocontractors",
          "affect",
          "affected",
          "affects",
          "afford",
          "afraid",
          "africa",
          "after",
          "afternoon",
          "afterwards",
          "again",
          "against",
          "agane",
          "age",
          "aged",
          "agencies",
          "agenda",
          "agentnlp",
          "aggressively",
          "aggressor",
          "agnew",
          "ago",
          "agolf",
          "agree",
          "agreed",
          "agreement",
          "agriculture",
          "ahead",
          "ai",
          "aid",
          "aimed",
          "aiming",
          "ain",
          "air",
          "aircraft",
          "airline",
          "airlines",
          "airplane",
          "airplanes",
          "aka",
          "aladeen",
          "albeit",
          "alerts",
          "all",
          "allies",
          "allocating",
          "allocation",
          "allowed",
          "allowing",
          "allows",
          "ally",
          "almasria",
          "almost",
          "alone"
         ],
         "xaxis": "x",
         "y": {
          "bdata": "BAYBAQEBAQEVCwEBAQEBAQEFAwEIAQIBAgEBAQEIAgEBAQEBAQECAgEDAQECAQEBAQEBAQEBAQEHAgEBAQEBAgECBgEBAQIEAQMBAQIHAwECAQIBAQEBAQIBCQEBAQEBAQECAQMCAgECAQEBBAEBAQICAQcBAQEBAQEBAQEBAQEMBAQBAQEBAQEBAgEBAgIBAQEBAgIBAgEBAwEBAQECAQUBAQEBAgEBAQEBAwIGAUgEAQMBAQEBAQIBAQEBAQEFAQEBAQEBAQMBAwEDAgEDAQEEAQIFCwEBAQEBAQMCBAEBAwIKAQEBAQEBAQEBAQEHAQEBAwIBAwMCAQEBARsBAQ4HAQEBAQEBAQEBDAEEAQEBAgUBAQECAwIBBgEBAQEBAmEHAQYDAQMCAwYE",
          "dtype": "i1"
         },
         "yaxis": "y"
        }
       ],
       "layout": {
        "bargap": 0.2,
        "barmode": "relative",
        "height": 600,
        "legend": {
         "tracegroupgap": 0
        },
        "template": {
         "data": {
          "bar": [
           {
            "error_x": {
             "color": "#2a3f5f"
            },
            "error_y": {
             "color": "#2a3f5f"
            },
            "marker": {
             "line": {
              "color": "#E5ECF6",
              "width": 0.5
             },
             "pattern": {
              "fillmode": "overlay",
              "size": 10,
              "solidity": 0.2
             }
            },
            "type": "bar"
           }
          ],
          "barpolar": [
           {
            "marker": {
             "line": {
              "color": "#E5ECF6",
              "width": 0.5
             },
             "pattern": {
              "fillmode": "overlay",
              "size": 10,
              "solidity": 0.2
             }
            },
            "type": "barpolar"
           }
          ],
          "carpet": [
           {
            "aaxis": {
             "endlinecolor": "#2a3f5f",
             "gridcolor": "white",
             "linecolor": "white",
             "minorgridcolor": "white",
             "startlinecolor": "#2a3f5f"
            },
            "baxis": {
             "endlinecolor": "#2a3f5f",
             "gridcolor": "white",
             "linecolor": "white",
             "minorgridcolor": "white",
             "startlinecolor": "#2a3f5f"
            },
            "type": "carpet"
           }
          ],
          "choropleth": [
           {
            "colorbar": {
             "outlinewidth": 0,
             "ticks": ""
            },
            "type": "choropleth"
           }
          ],
          "contour": [
           {
            "colorbar": {
             "outlinewidth": 0,
             "ticks": ""
            },
            "colorscale": [
             [
              0,
              "#0d0887"
             ],
             [
              0.1111111111111111,
              "#46039f"
             ],
             [
              0.2222222222222222,
              "#7201a8"
             ],
             [
              0.3333333333333333,
              "#9c179e"
             ],
             [
              0.4444444444444444,
              "#bd3786"
             ],
             [
              0.5555555555555556,
              "#d8576b"
             ],
             [
              0.6666666666666666,
              "#ed7953"
             ],
             [
              0.7777777777777778,
              "#fb9f3a"
             ],
             [
              0.8888888888888888,
              "#fdca26"
             ],
             [
              1,
              "#f0f921"
             ]
            ],
            "type": "contour"
           }
          ],
          "contourcarpet": [
           {
            "colorbar": {
             "outlinewidth": 0,
             "ticks": ""
            },
            "type": "contourcarpet"
           }
          ],
          "heatmap": [
           {
            "colorbar": {
             "outlinewidth": 0,
             "ticks": ""
            },
            "colorscale": [
             [
              0,
              "#0d0887"
             ],
             [
              0.1111111111111111,
              "#46039f"
             ],
             [
              0.2222222222222222,
              "#7201a8"
             ],
             [
              0.3333333333333333,
              "#9c179e"
             ],
             [
              0.4444444444444444,
              "#bd3786"
             ],
             [
              0.5555555555555556,
              "#d8576b"
             ],
             [
              0.6666666666666666,
              "#ed7953"
             ],
             [
              0.7777777777777778,
              "#fb9f3a"
             ],
             [
              0.8888888888888888,
              "#fdca26"
             ],
             [
              1,
              "#f0f921"
             ]
            ],
            "type": "heatmap"
           }
          ],
          "histogram": [
           {
            "marker": {
             "pattern": {
              "fillmode": "overlay",
              "size": 10,
              "solidity": 0.2
             }
            },
            "type": "histogram"
           }
          ],
          "histogram2d": [
           {
            "colorbar": {
             "outlinewidth": 0,
             "ticks": ""
            },
            "colorscale": [
             [
              0,
              "#0d0887"
             ],
             [
              0.1111111111111111,
              "#46039f"
             ],
             [
              0.2222222222222222,
              "#7201a8"
             ],
             [
              0.3333333333333333,
              "#9c179e"
             ],
             [
              0.4444444444444444,
              "#bd3786"
             ],
             [
              0.5555555555555556,
              "#d8576b"
             ],
             [
              0.6666666666666666,
              "#ed7953"
             ],
             [
              0.7777777777777778,
              "#fb9f3a"
             ],
             [
              0.8888888888888888,
              "#fdca26"
             ],
             [
              1,
              "#f0f921"
             ]
            ],
            "type": "histogram2d"
           }
          ],
          "histogram2dcontour": [
           {
            "colorbar": {
             "outlinewidth": 0,
             "ticks": ""
            },
            "colorscale": [
             [
              0,
              "#0d0887"
             ],
             [
              0.1111111111111111,
              "#46039f"
             ],
             [
              0.2222222222222222,
              "#7201a8"
             ],
             [
              0.3333333333333333,
              "#9c179e"
             ],
             [
              0.4444444444444444,
              "#bd3786"
             ],
             [
              0.5555555555555556,
              "#d8576b"
             ],
             [
              0.6666666666666666,
              "#ed7953"
             ],
             [
              0.7777777777777778,
              "#fb9f3a"
             ],
             [
              0.8888888888888888,
              "#fdca26"
             ],
             [
              1,
              "#f0f921"
             ]
            ],
            "type": "histogram2dcontour"
           }
          ],
          "mesh3d": [
           {
            "colorbar": {
             "outlinewidth": 0,
             "ticks": ""
            },
            "type": "mesh3d"
           }
          ],
          "parcoords": [
           {
            "line": {
             "colorbar": {
              "outlinewidth": 0,
              "ticks": ""
             }
            },
            "type": "parcoords"
           }
          ],
          "pie": [
           {
            "automargin": true,
            "type": "pie"
           }
          ],
          "scatter": [
           {
            "fillpattern": {
             "fillmode": "overlay",
             "size": 10,
             "solidity": 0.2
            },
            "type": "scatter"
           }
          ],
          "scatter3d": [
           {
            "line": {
             "colorbar": {
              "outlinewidth": 0,
              "ticks": ""
             }
            },
            "marker": {
             "colorbar": {
              "outlinewidth": 0,
              "ticks": ""
             }
            },
            "type": "scatter3d"
           }
          ],
          "scattercarpet": [
           {
            "marker": {
             "colorbar": {
              "outlinewidth": 0,
              "ticks": ""
             }
            },
            "type": "scattercarpet"
           }
          ],
          "scattergeo": [
           {
            "marker": {
             "colorbar": {
              "outlinewidth": 0,
              "ticks": ""
             }
            },
            "type": "scattergeo"
           }
          ],
          "scattergl": [
           {
            "marker": {
             "colorbar": {
              "outlinewidth": 0,
              "ticks": ""
             }
            },
            "type": "scattergl"
           }
          ],
          "scattermap": [
           {
            "marker": {
             "colorbar": {
              "outlinewidth": 0,
              "ticks": ""
             }
            },
            "type": "scattermap"
           }
          ],
          "scattermapbox": [
           {
            "marker": {
             "colorbar": {
              "outlinewidth": 0,
              "ticks": ""
             }
            },
            "type": "scattermapbox"
           }
          ],
          "scatterpolar": [
           {
            "marker": {
             "colorbar": {
              "outlinewidth": 0,
              "ticks": ""
             }
            },
            "type": "scatterpolar"
           }
          ],
          "scatterpolargl": [
           {
            "marker": {
             "colorbar": {
              "outlinewidth": 0,
              "ticks": ""
             }
            },
            "type": "scatterpolargl"
           }
          ],
          "scatterternary": [
           {
            "marker": {
             "colorbar": {
              "outlinewidth": 0,
              "ticks": ""
             }
            },
            "type": "scatterternary"
           }
          ],
          "surface": [
           {
            "colorbar": {
             "outlinewidth": 0,
             "ticks": ""
            },
            "colorscale": [
             [
              0,
              "#0d0887"
             ],
             [
              0.1111111111111111,
              "#46039f"
             ],
             [
              0.2222222222222222,
              "#7201a8"
             ],
             [
              0.3333333333333333,
              "#9c179e"
             ],
             [
              0.4444444444444444,
              "#bd3786"
             ],
             [
              0.5555555555555556,
              "#d8576b"
             ],
             [
              0.6666666666666666,
              "#ed7953"
             ],
             [
              0.7777777777777778,
              "#fb9f3a"
             ],
             [
              0.8888888888888888,
              "#fdca26"
             ],
             [
              1,
              "#f0f921"
             ]
            ],
            "type": "surface"
           }
          ],
          "table": [
           {
            "cells": {
             "fill": {
              "color": "#EBF0F8"
             },
             "line": {
              "color": "white"
             }
            },
            "header": {
             "fill": {
              "color": "#C8D4E3"
             },
             "line": {
              "color": "white"
             }
            },
            "type": "table"
           }
          ]
         },
         "layout": {
          "annotationdefaults": {
           "arrowcolor": "#2a3f5f",
           "arrowhead": 0,
           "arrowwidth": 1
          },
          "autotypenumbers": "strict",
          "coloraxis": {
           "colorbar": {
            "outlinewidth": 0,
            "ticks": ""
           }
          },
          "colorscale": {
           "diverging": [
            [
             0,
             "#8e0152"
            ],
            [
             0.1,
             "#c51b7d"
            ],
            [
             0.2,
             "#de77ae"
            ],
            [
             0.3,
             "#f1b6da"
            ],
            [
             0.4,
             "#fde0ef"
            ],
            [
             0.5,
             "#f7f7f7"
            ],
            [
             0.6,
             "#e6f5d0"
            ],
            [
             0.7,
             "#b8e186"
            ],
            [
             0.8,
             "#7fbc41"
            ],
            [
             0.9,
             "#4d9221"
            ],
            [
             1,
             "#276419"
            ]
           ],
           "sequential": [
            [
             0,
             "#0d0887"
            ],
            [
             0.1111111111111111,
             "#46039f"
            ],
            [
             0.2222222222222222,
             "#7201a8"
            ],
            [
             0.3333333333333333,
             "#9c179e"
            ],
            [
             0.4444444444444444,
             "#bd3786"
            ],
            [
             0.5555555555555556,
             "#d8576b"
            ],
            [
             0.6666666666666666,
             "#ed7953"
            ],
            [
             0.7777777777777778,
             "#fb9f3a"
            ],
            [
             0.8888888888888888,
             "#fdca26"
            ],
            [
             1,
             "#f0f921"
            ]
           ],
           "sequentialminus": [
            [
             0,
             "#0d0887"
            ],
            [
             0.1111111111111111,
             "#46039f"
            ],
            [
             0.2222222222222222,
             "#7201a8"
            ],
            [
             0.3333333333333333,
             "#9c179e"
            ],
            [
             0.4444444444444444,
             "#bd3786"
            ],
            [
             0.5555555555555556,
             "#d8576b"
            ],
            [
             0.6666666666666666,
             "#ed7953"
            ],
            [
             0.7777777777777778,
             "#fb9f3a"
            ],
            [
             0.8888888888888888,
             "#fdca26"
            ],
            [
             1,
             "#f0f921"
            ]
           ]
          },
          "colorway": [
           "#636efa",
           "#EF553B",
           "#00cc96",
           "#ab63fa",
           "#FFA15A",
           "#19d3f3",
           "#FF6692",
           "#B6E880",
           "#FF97FF",
           "#FECB52"
          ],
          "font": {
           "color": "#2a3f5f"
          },
          "geo": {
           "bgcolor": "white",
           "lakecolor": "white",
           "landcolor": "#E5ECF6",
           "showlakes": true,
           "showland": true,
           "subunitcolor": "white"
          },
          "hoverlabel": {
           "align": "left"
          },
          "hovermode": "closest",
          "mapbox": {
           "style": "light"
          },
          "paper_bgcolor": "white",
          "plot_bgcolor": "#E5ECF6",
          "polar": {
           "angularaxis": {
            "gridcolor": "white",
            "linecolor": "white",
            "ticks": ""
           },
           "bgcolor": "#E5ECF6",
           "radialaxis": {
            "gridcolor": "white",
            "linecolor": "white",
            "ticks": ""
           }
          },
          "scene": {
           "xaxis": {
            "backgroundcolor": "#E5ECF6",
            "gridcolor": "white",
            "gridwidth": 2,
            "linecolor": "white",
            "showbackground": true,
            "ticks": "",
            "zerolinecolor": "white"
           },
           "yaxis": {
            "backgroundcolor": "#E5ECF6",
            "gridcolor": "white",
            "gridwidth": 2,
            "linecolor": "white",
            "showbackground": true,
            "ticks": "",
            "zerolinecolor": "white"
           },
           "zaxis": {
            "backgroundcolor": "#E5ECF6",
            "gridcolor": "white",
            "gridwidth": 2,
            "linecolor": "white",
            "showbackground": true,
            "ticks": "",
            "zerolinecolor": "white"
           }
          },
          "shapedefaults": {
           "line": {
            "color": "#2a3f5f"
           }
          },
          "ternary": {
           "aaxis": {
            "gridcolor": "white",
            "linecolor": "white",
            "ticks": ""
           },
           "baxis": {
            "gridcolor": "white",
            "linecolor": "white",
            "ticks": ""
           },
           "bgcolor": "#E5ECF6",
           "caxis": {
            "gridcolor": "white",
            "linecolor": "white",
            "ticks": ""
           }
          },
          "title": {
           "x": 0.05
          },
          "xaxis": {
           "automargin": true,
           "gridcolor": "white",
           "linecolor": "white",
           "ticks": "",
           "title": {
            "standoff": 15
           },
           "zerolinecolor": "white",
           "zerolinewidth": 2
          },
          "yaxis": {
           "automargin": true,
           "gridcolor": "white",
           "linecolor": "white",
           "ticks": "",
           "title": {
            "standoff": 15
           },
           "zerolinecolor": "white",
           "zerolinewidth": 2
          }
         }
        },
        "title": {
         "text": "Term Frequencies for First 300 Terms"
        },
        "width": 1200,
        "xaxis": {
         "anchor": "y",
         "domain": [
          0,
          1
         ],
         "tickangle": -90,
         "title": {
          "text": "Terms"
         }
        },
        "yaxis": {
         "anchor": "x",
         "domain": [
          0,
          1
         ],
         "title": {
          "text": "Frequencies"
         }
        }
       }
      }
     },
     "metadata": {},
     "output_type": "display_data"
    }
   ],
   "source": [
    "import plotly.express as px\n",
    "import pandas as pd\n",
    "import numpy as np\n",
    "\n",
    "# 1) 計算詞頻\n",
    "term_freq = np.asarray(newdataset_count.sum(axis=0)).ravel()\n",
    "vocab = count_vect.get_feature_names_out()\n",
    "\n",
    "# 2) 取前 300 個詞\n",
    "df = pd.DataFrame({\n",
    "    \"term\": vocab[:300],\n",
    "    \"frequency\": term_freq[:300]\n",
    "})\n",
    "\n",
    "# 3) 用 plotly 畫互動長條圖\n",
    "fig = px.bar(df, x=\"term\", y=\"frequency\",\n",
    "             title=\"Term Frequencies for First 300 Terms\")\n",
    "\n",
    "fig.update_layout(\n",
    "    xaxis_title=\"Terms\",\n",
    "    yaxis_title=\"Frequencies\",\n",
    "    xaxis_tickangle=-90,\n",
    "    bargap=0.2,\n",
    "    height=600, width=1200\n",
    ")\n",
    "\n",
    "fig.show()"
   ]
  },
  {
   "cell_type": "code",
   "execution_count": 225,
   "metadata": {},
   "outputs": [
    {
     "data": {
      "application/vnd.plotly.v1+json": {
       "config": {
        "plotlyServerURL": "https://plot.ly"
       },
       "data": [
        {
         "hovertemplate": "term=%{x}<br>freq=%{y}<extra></extra>",
         "legendgroup": "",
         "marker": {
          "color": "#636efa",
          "pattern": {
           "shape": ""
          }
         },
         "name": "",
         "orientation": "v",
         "showlegend": false,
         "textposition": "auto",
         "type": "bar",
         "x": [
          "the",
          "to",
          "and",
          "is",
          "it",
          "of",
          "in",
          "that",
          "for",
          "this",
          "you",
          "on",
          "are",
          "they",
          "be",
          "he",
          "will",
          "with",
          "if",
          "as",
          "market",
          "but",
          "not",
          "so",
          "have",
          "all",
          "us",
          "just",
          "was",
          "at",
          "trump",
          "my",
          "what",
          "can",
          "like",
          "we",
          "or",
          "has",
          "china",
          "about",
          "their",
          "more",
          "from",
          "now",
          "there",
          "no",
          "by",
          "re",
          "how",
          "up"
         ],
         "xaxis": "x",
         "y": {
          "bdata": "mAM2AugBkgFeATcBHgHuANYA1QDDAKsAmwCWAIYAhAB/AH4AdwBzAG8AbABrAGcAYQBhAGAAXwBeAFwAXABZAFgAVQBTAFEAUQBMAEgASABIAEMAPwA+AD4APQA6ADkANwA3AA==",
          "dtype": "i2"
         },
         "yaxis": "y"
        }
       ],
       "layout": {
        "bargap": 0.2,
        "barmode": "relative",
        "height": 600,
        "legend": {
         "tracegroupgap": 0
        },
        "template": {
         "data": {
          "bar": [
           {
            "error_x": {
             "color": "#2a3f5f"
            },
            "error_y": {
             "color": "#2a3f5f"
            },
            "marker": {
             "line": {
              "color": "#E5ECF6",
              "width": 0.5
             },
             "pattern": {
              "fillmode": "overlay",
              "size": 10,
              "solidity": 0.2
             }
            },
            "type": "bar"
           }
          ],
          "barpolar": [
           {
            "marker": {
             "line": {
              "color": "#E5ECF6",
              "width": 0.5
             },
             "pattern": {
              "fillmode": "overlay",
              "size": 10,
              "solidity": 0.2
             }
            },
            "type": "barpolar"
           }
          ],
          "carpet": [
           {
            "aaxis": {
             "endlinecolor": "#2a3f5f",
             "gridcolor": "white",
             "linecolor": "white",
             "minorgridcolor": "white",
             "startlinecolor": "#2a3f5f"
            },
            "baxis": {
             "endlinecolor": "#2a3f5f",
             "gridcolor": "white",
             "linecolor": "white",
             "minorgridcolor": "white",
             "startlinecolor": "#2a3f5f"
            },
            "type": "carpet"
           }
          ],
          "choropleth": [
           {
            "colorbar": {
             "outlinewidth": 0,
             "ticks": ""
            },
            "type": "choropleth"
           }
          ],
          "contour": [
           {
            "colorbar": {
             "outlinewidth": 0,
             "ticks": ""
            },
            "colorscale": [
             [
              0,
              "#0d0887"
             ],
             [
              0.1111111111111111,
              "#46039f"
             ],
             [
              0.2222222222222222,
              "#7201a8"
             ],
             [
              0.3333333333333333,
              "#9c179e"
             ],
             [
              0.4444444444444444,
              "#bd3786"
             ],
             [
              0.5555555555555556,
              "#d8576b"
             ],
             [
              0.6666666666666666,
              "#ed7953"
             ],
             [
              0.7777777777777778,
              "#fb9f3a"
             ],
             [
              0.8888888888888888,
              "#fdca26"
             ],
             [
              1,
              "#f0f921"
             ]
            ],
            "type": "contour"
           }
          ],
          "contourcarpet": [
           {
            "colorbar": {
             "outlinewidth": 0,
             "ticks": ""
            },
            "type": "contourcarpet"
           }
          ],
          "heatmap": [
           {
            "colorbar": {
             "outlinewidth": 0,
             "ticks": ""
            },
            "colorscale": [
             [
              0,
              "#0d0887"
             ],
             [
              0.1111111111111111,
              "#46039f"
             ],
             [
              0.2222222222222222,
              "#7201a8"
             ],
             [
              0.3333333333333333,
              "#9c179e"
             ],
             [
              0.4444444444444444,
              "#bd3786"
             ],
             [
              0.5555555555555556,
              "#d8576b"
             ],
             [
              0.6666666666666666,
              "#ed7953"
             ],
             [
              0.7777777777777778,
              "#fb9f3a"
             ],
             [
              0.8888888888888888,
              "#fdca26"
             ],
             [
              1,
              "#f0f921"
             ]
            ],
            "type": "heatmap"
           }
          ],
          "histogram": [
           {
            "marker": {
             "pattern": {
              "fillmode": "overlay",
              "size": 10,
              "solidity": 0.2
             }
            },
            "type": "histogram"
           }
          ],
          "histogram2d": [
           {
            "colorbar": {
             "outlinewidth": 0,
             "ticks": ""
            },
            "colorscale": [
             [
              0,
              "#0d0887"
             ],
             [
              0.1111111111111111,
              "#46039f"
             ],
             [
              0.2222222222222222,
              "#7201a8"
             ],
             [
              0.3333333333333333,
              "#9c179e"
             ],
             [
              0.4444444444444444,
              "#bd3786"
             ],
             [
              0.5555555555555556,
              "#d8576b"
             ],
             [
              0.6666666666666666,
              "#ed7953"
             ],
             [
              0.7777777777777778,
              "#fb9f3a"
             ],
             [
              0.8888888888888888,
              "#fdca26"
             ],
             [
              1,
              "#f0f921"
             ]
            ],
            "type": "histogram2d"
           }
          ],
          "histogram2dcontour": [
           {
            "colorbar": {
             "outlinewidth": 0,
             "ticks": ""
            },
            "colorscale": [
             [
              0,
              "#0d0887"
             ],
             [
              0.1111111111111111,
              "#46039f"
             ],
             [
              0.2222222222222222,
              "#7201a8"
             ],
             [
              0.3333333333333333,
              "#9c179e"
             ],
             [
              0.4444444444444444,
              "#bd3786"
             ],
             [
              0.5555555555555556,
              "#d8576b"
             ],
             [
              0.6666666666666666,
              "#ed7953"
             ],
             [
              0.7777777777777778,
              "#fb9f3a"
             ],
             [
              0.8888888888888888,
              "#fdca26"
             ],
             [
              1,
              "#f0f921"
             ]
            ],
            "type": "histogram2dcontour"
           }
          ],
          "mesh3d": [
           {
            "colorbar": {
             "outlinewidth": 0,
             "ticks": ""
            },
            "type": "mesh3d"
           }
          ],
          "parcoords": [
           {
            "line": {
             "colorbar": {
              "outlinewidth": 0,
              "ticks": ""
             }
            },
            "type": "parcoords"
           }
          ],
          "pie": [
           {
            "automargin": true,
            "type": "pie"
           }
          ],
          "scatter": [
           {
            "fillpattern": {
             "fillmode": "overlay",
             "size": 10,
             "solidity": 0.2
            },
            "type": "scatter"
           }
          ],
          "scatter3d": [
           {
            "line": {
             "colorbar": {
              "outlinewidth": 0,
              "ticks": ""
             }
            },
            "marker": {
             "colorbar": {
              "outlinewidth": 0,
              "ticks": ""
             }
            },
            "type": "scatter3d"
           }
          ],
          "scattercarpet": [
           {
            "marker": {
             "colorbar": {
              "outlinewidth": 0,
              "ticks": ""
             }
            },
            "type": "scattercarpet"
           }
          ],
          "scattergeo": [
           {
            "marker": {
             "colorbar": {
              "outlinewidth": 0,
              "ticks": ""
             }
            },
            "type": "scattergeo"
           }
          ],
          "scattergl": [
           {
            "marker": {
             "colorbar": {
              "outlinewidth": 0,
              "ticks": ""
             }
            },
            "type": "scattergl"
           }
          ],
          "scattermap": [
           {
            "marker": {
             "colorbar": {
              "outlinewidth": 0,
              "ticks": ""
             }
            },
            "type": "scattermap"
           }
          ],
          "scattermapbox": [
           {
            "marker": {
             "colorbar": {
              "outlinewidth": 0,
              "ticks": ""
             }
            },
            "type": "scattermapbox"
           }
          ],
          "scatterpolar": [
           {
            "marker": {
             "colorbar": {
              "outlinewidth": 0,
              "ticks": ""
             }
            },
            "type": "scatterpolar"
           }
          ],
          "scatterpolargl": [
           {
            "marker": {
             "colorbar": {
              "outlinewidth": 0,
              "ticks": ""
             }
            },
            "type": "scatterpolargl"
           }
          ],
          "scatterternary": [
           {
            "marker": {
             "colorbar": {
              "outlinewidth": 0,
              "ticks": ""
             }
            },
            "type": "scatterternary"
           }
          ],
          "surface": [
           {
            "colorbar": {
             "outlinewidth": 0,
             "ticks": ""
            },
            "colorscale": [
             [
              0,
              "#0d0887"
             ],
             [
              0.1111111111111111,
              "#46039f"
             ],
             [
              0.2222222222222222,
              "#7201a8"
             ],
             [
              0.3333333333333333,
              "#9c179e"
             ],
             [
              0.4444444444444444,
              "#bd3786"
             ],
             [
              0.5555555555555556,
              "#d8576b"
             ],
             [
              0.6666666666666666,
              "#ed7953"
             ],
             [
              0.7777777777777778,
              "#fb9f3a"
             ],
             [
              0.8888888888888888,
              "#fdca26"
             ],
             [
              1,
              "#f0f921"
             ]
            ],
            "type": "surface"
           }
          ],
          "table": [
           {
            "cells": {
             "fill": {
              "color": "#EBF0F8"
             },
             "line": {
              "color": "white"
             }
            },
            "header": {
             "fill": {
              "color": "#C8D4E3"
             },
             "line": {
              "color": "white"
             }
            },
            "type": "table"
           }
          ]
         },
         "layout": {
          "annotationdefaults": {
           "arrowcolor": "#2a3f5f",
           "arrowhead": 0,
           "arrowwidth": 1
          },
          "autotypenumbers": "strict",
          "coloraxis": {
           "colorbar": {
            "outlinewidth": 0,
            "ticks": ""
           }
          },
          "colorscale": {
           "diverging": [
            [
             0,
             "#8e0152"
            ],
            [
             0.1,
             "#c51b7d"
            ],
            [
             0.2,
             "#de77ae"
            ],
            [
             0.3,
             "#f1b6da"
            ],
            [
             0.4,
             "#fde0ef"
            ],
            [
             0.5,
             "#f7f7f7"
            ],
            [
             0.6,
             "#e6f5d0"
            ],
            [
             0.7,
             "#b8e186"
            ],
            [
             0.8,
             "#7fbc41"
            ],
            [
             0.9,
             "#4d9221"
            ],
            [
             1,
             "#276419"
            ]
           ],
           "sequential": [
            [
             0,
             "#0d0887"
            ],
            [
             0.1111111111111111,
             "#46039f"
            ],
            [
             0.2222222222222222,
             "#7201a8"
            ],
            [
             0.3333333333333333,
             "#9c179e"
            ],
            [
             0.4444444444444444,
             "#bd3786"
            ],
            [
             0.5555555555555556,
             "#d8576b"
            ],
            [
             0.6666666666666666,
             "#ed7953"
            ],
            [
             0.7777777777777778,
             "#fb9f3a"
            ],
            [
             0.8888888888888888,
             "#fdca26"
            ],
            [
             1,
             "#f0f921"
            ]
           ],
           "sequentialminus": [
            [
             0,
             "#0d0887"
            ],
            [
             0.1111111111111111,
             "#46039f"
            ],
            [
             0.2222222222222222,
             "#7201a8"
            ],
            [
             0.3333333333333333,
             "#9c179e"
            ],
            [
             0.4444444444444444,
             "#bd3786"
            ],
            [
             0.5555555555555556,
             "#d8576b"
            ],
            [
             0.6666666666666666,
             "#ed7953"
            ],
            [
             0.7777777777777778,
             "#fb9f3a"
            ],
            [
             0.8888888888888888,
             "#fdca26"
            ],
            [
             1,
             "#f0f921"
            ]
           ]
          },
          "colorway": [
           "#636efa",
           "#EF553B",
           "#00cc96",
           "#ab63fa",
           "#FFA15A",
           "#19d3f3",
           "#FF6692",
           "#B6E880",
           "#FF97FF",
           "#FECB52"
          ],
          "font": {
           "color": "#2a3f5f"
          },
          "geo": {
           "bgcolor": "white",
           "lakecolor": "white",
           "landcolor": "#E5ECF6",
           "showlakes": true,
           "showland": true,
           "subunitcolor": "white"
          },
          "hoverlabel": {
           "align": "left"
          },
          "hovermode": "closest",
          "mapbox": {
           "style": "light"
          },
          "paper_bgcolor": "white",
          "plot_bgcolor": "#E5ECF6",
          "polar": {
           "angularaxis": {
            "gridcolor": "white",
            "linecolor": "white",
            "ticks": ""
           },
           "bgcolor": "#E5ECF6",
           "radialaxis": {
            "gridcolor": "white",
            "linecolor": "white",
            "ticks": ""
           }
          },
          "scene": {
           "xaxis": {
            "backgroundcolor": "#E5ECF6",
            "gridcolor": "white",
            "gridwidth": 2,
            "linecolor": "white",
            "showbackground": true,
            "ticks": "",
            "zerolinecolor": "white"
           },
           "yaxis": {
            "backgroundcolor": "#E5ECF6",
            "gridcolor": "white",
            "gridwidth": 2,
            "linecolor": "white",
            "showbackground": true,
            "ticks": "",
            "zerolinecolor": "white"
           },
           "zaxis": {
            "backgroundcolor": "#E5ECF6",
            "gridcolor": "white",
            "gridwidth": 2,
            "linecolor": "white",
            "showbackground": true,
            "ticks": "",
            "zerolinecolor": "white"
           }
          },
          "shapedefaults": {
           "line": {
            "color": "#2a3f5f"
           }
          },
          "ternary": {
           "aaxis": {
            "gridcolor": "white",
            "linecolor": "white",
            "ticks": ""
           },
           "baxis": {
            "gridcolor": "white",
            "linecolor": "white",
            "ticks": ""
           },
           "bgcolor": "#E5ECF6",
           "caxis": {
            "gridcolor": "white",
            "linecolor": "white",
            "ticks": ""
           }
          },
          "title": {
           "x": 0.05
          },
          "xaxis": {
           "automargin": true,
           "gridcolor": "white",
           "linecolor": "white",
           "ticks": "",
           "title": {
            "standoff": 15
           },
           "zerolinecolor": "white",
           "zerolinewidth": 2
          },
          "yaxis": {
           "automargin": true,
           "gridcolor": "white",
           "linecolor": "white",
           "ticks": "",
           "title": {
            "standoff": 15
           },
           "zerolinecolor": "white",
           "zerolinewidth": 2
          }
         }
        },
        "title": {
         "text": "Top 50 Most Frequent Terms"
        },
        "width": 1200,
        "xaxis": {
         "anchor": "y",
         "domain": [
          0,
          1
         ],
         "tickangle": 90,
         "title": {
          "text": "Terms"
         }
        },
        "yaxis": {
         "anchor": "x",
         "domain": [
          0,
          1
         ],
         "title": {
          "text": "Frequency"
         }
        }
       }
      }
     },
     "metadata": {},
     "output_type": "display_data"
    }
   ],
   "source": [
    "# 設定 最小出現次數 ex:只保留至少出現 1000 次的詞：\n",
    "import numpy as np\n",
    "import pandas as pd\n",
    "import plotly.express as px\n",
    "\n",
    "K = 50  # 顯示前 50 高頻詞\n",
    "\n",
    "# 計算詞頻（整個語料庫）\n",
    "term_freq = np.asarray(newdataset_count.sum(axis=0)).ravel()\n",
    "vocab = count_vect.get_feature_names_out()\n",
    "\n",
    "# 取最高頻的前 K 個詞\n",
    "top_idx = term_freq.argsort()[::-1][:K]\n",
    "df = pd.DataFrame({\"term\": vocab[top_idx], \"freq\": term_freq[top_idx]})\n",
    "\n",
    "# 畫垂直長條圖\n",
    "fig = px.bar(df, x=\"term\", y=\"freq\",\n",
    "             title=f\"Top {K} Most Frequent Terms\")\n",
    "\n",
    "fig.update_layout(\n",
    "    xaxis_title=\"Terms\",\n",
    "    yaxis_title=\"Frequency\",\n",
    "    xaxis_tickangle=90,   # x 軸標籤旋轉 90 度\n",
    "    bargap=0.2,\n",
    "    height=600, width=1200\n",
    ")\n",
    "\n",
    "fig.show()"
   ]
  },
  {
   "cell_type": "code",
   "execution_count": 226,
   "metadata": {},
   "outputs": [
    {
     "data": {
      "image/png": "[encoded data removed]",
      "text/plain": [
       "<Figure size 1200x600 with 1 Axes>"
      ]
     },
     "metadata": {},
     "output_type": "display_data"
    }
   ],
   "source": [
    "import numpy as np\n",
    "import matplotlib.pyplot as plt\n",
    "\n",
    "# 詞頻排序\n",
    "term_freq = np.asarray(newdataset_count.sum(axis=0)).ravel()\n",
    "sorted_idx = term_freq.argsort()[::-1]\n",
    "sorted_freq = term_freq[sorted_idx]\n",
    "\n",
    "# 只取前 N 個\n",
    "N = 500\n",
    "x = np.arange(N)\n",
    "\n",
    "plt.figure(figsize=(12, 6))\n",
    "\n",
    "# 前 K 當 head，其他當 tail\n",
    "K = 50\n",
    "plt.fill_between(x[:K], sorted_freq[:K], color=\"lime\", alpha=0.7, label=f\"Top {K}\")\n",
    "plt.fill_between(x[K:N], sorted_freq[K:N], color=\"yellow\", alpha=0.7, label=\"Tail\")\n",
    "plt.plot(x, sorted_freq[:N], color=\"gray\", linewidth=2)\n",
    "\n",
    "plt.title(f\"Word Frequency Distribution (Top {N} terms)\")\n",
    "plt.xlabel(\"Term Rank (sorted by frequency)\")\n",
    "plt.ylabel(\"Frequency\")\n",
    "plt.legend()\n",
    "plt.show()\n"
   ]
  },
  {
   "cell_type": "code",
   "execution_count": 227,
   "metadata": {},
   "outputs": [
    {
     "data": {
      "image/png": "[encoded data removed]",
      "text/plain": [
       "<Figure size 1600x600 with 1 Axes>"
      ]
     },
     "metadata": {},
     "output_type": "display_data"
    }
   ],
   "source": [
    "import numpy as np\n",
    "import matplotlib.pyplot as plt\n",
    "import seaborn as sns\n",
    "import pandas as pd\n",
    "\n",
    "# 計算 log 頻率\n",
    "term_frequencies = np.array(newdataset_count.sum(axis=0)).flatten()\n",
    "terms = count_vect.get_feature_names_out()\n",
    "\n",
    "# 取前 N 個高頻詞\n",
    "N = 300\n",
    "sorted_idx = np.argsort(term_frequencies)[::-1][:N]\n",
    "top_terms = np.array(terms)[sorted_idx]\n",
    "top_freqs_log = np.log1p(term_frequencies[sorted_idx])  # log(1+x) 避免 log(0)\n",
    "\n",
    "# 畫圖\n",
    "plt.figure(figsize=(16,6))\n",
    "sns.barplot(x=top_terms, y=top_freqs_log, color=\"steelblue\")\n",
    "\n",
    "plt.title(f\"Top {N} Terms by Log(Frequency)\", fontsize=14)\n",
    "plt.xlabel(\"Terms\", fontsize=12)\n",
    "plt.ylabel(\"Log(Frequencies)\", fontsize=12)\n",
    "\n",
    "# 只顯示每 10 個詞\n",
    "step = 10\n",
    "plt.xticks(ticks=range(0, len(top_terms), step),\n",
    "           labels=top_terms[::step], \n",
    "           rotation=45)\n",
    "\n",
    "plt.tight_layout()\n",
    "plt.show()"
   ]
  },
  {
   "cell_type": "markdown",
   "metadata": {},
   "source": [
    "# Phase 2"
   ]
  },
  {
   "cell_type": "code",
   "execution_count": 222,
   "metadata": {},
   "outputs": [],
   "source": [
    "### Begin Assignment Here"
   ]
  }
 ],
 "metadata": {
  "kernelspec": {
   "display_name": "DM2025-Lab1-Exercise",
   "language": "python",
   "name": "python3"
  },
  "language_info": {
   "codemirror_mode": {
    "name": "ipython",
    "version": 3
   },
   "file_extension": ".py",
   "mimetype": "text/x-python",
   "name": "python",
   "nbconvert_exporter": "python",
   "pygments_lexer": "ipython3",
   "version": "3.11.0"
  }
 },
 "nbformat": 4,
 "nbformat_minor": 4
}
